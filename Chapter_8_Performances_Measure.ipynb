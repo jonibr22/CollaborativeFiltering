{
  "cells": [
    {
      "cell_type": "markdown",
      "metadata": {
        "id": "33IDSYCO4Qkb"
      },
      "source": [
        "## Chapter 8 - Performances Measure"
      ]
    },
    {
      "cell_type": "markdown",
      "metadata": {
        "id": "kadi9FTC4Qk9"
      },
      "source": [
        "Before we start, we have to make sure that we already have our dependencies, that is 'recsys' folder"
      ]
    },
    {
      "cell_type": "code",
      "execution_count": 1,
      "metadata": {
        "colab": {
          "base_uri": "https://localhost:8080/"
        },
        "id": "uRTx40-k4QlB",
        "outputId": "3dcd16e7-aa48-4f3e-9e6c-35611a20e66e"
      },
      "outputs": [
        {
          "output_type": "stream",
          "name": "stdout",
          "text": [
            "--2023-01-03 20:49:26--  https://github.com/nzhinusoftcm/review-on-collaborative-filtering/raw/master/recsys.zip\n",
            "Resolving github.com (github.com)... 192.30.255.112\n",
            "Connecting to github.com (github.com)|192.30.255.112|:443... connected.\n",
            "HTTP request sent, awaiting response... 302 Found\n",
            "Location: https://raw.githubusercontent.com/nzhinusoftcm/review-on-collaborative-filtering/master/recsys.zip [following]\n",
            "--2023-01-03 20:49:27--  https://raw.githubusercontent.com/nzhinusoftcm/review-on-collaborative-filtering/master/recsys.zip\n",
            "Resolving raw.githubusercontent.com (raw.githubusercontent.com)... 185.199.108.133, 185.199.111.133, 185.199.109.133, ...\n",
            "Connecting to raw.githubusercontent.com (raw.githubusercontent.com)|185.199.108.133|:443... connected.\n",
            "HTTP request sent, awaiting response... 200 OK\n",
            "Length: 15312323 (15M) [application/zip]\n",
            "Saving to: ‘recsys.zip’\n",
            "\n",
            "recsys.zip          100%[===================>]  14.60M  --.-KB/s    in 0.08s   \n",
            "\n",
            "2023-01-03 20:49:27 (186 MB/s) - ‘recsys.zip’ saved [15312323/15312323]\n",
            "\n",
            "Archive:  recsys.zip\n",
            "   creating: recsys/\n",
            "  inflating: recsys/datasets.py      \n",
            "  inflating: recsys/preprocessing.py  \n",
            "  inflating: recsys/utils.py         \n",
            "  inflating: recsys/requirements.txt  \n",
            "   creating: recsys/.vscode/\n",
            "  inflating: recsys/.vscode/settings.json  \n",
            "   creating: recsys/__pycache__/\n",
            "  inflating: recsys/__pycache__/datasets.cpython-36.pyc  \n",
            "  inflating: recsys/__pycache__/datasets.cpython-37.pyc  \n",
            "  inflating: recsys/__pycache__/utils.cpython-36.pyc  \n",
            "  inflating: recsys/__pycache__/preprocessing.cpython-37.pyc  \n",
            "  inflating: recsys/__pycache__/datasets.cpython-38.pyc  \n",
            "  inflating: recsys/__pycache__/preprocessing.cpython-36.pyc  \n",
            "  inflating: recsys/__pycache__/preprocessing.cpython-38.pyc  \n",
            "   creating: recsys/memories/\n",
            "  inflating: recsys/memories/ItemToItem.py  \n",
            "  inflating: recsys/memories/UserToUser.py  \n",
            "   creating: recsys/memories/__pycache__/\n",
            "  inflating: recsys/memories/__pycache__/UserToUser.cpython-36.pyc  \n",
            "  inflating: recsys/memories/__pycache__/UserToUser.cpython-37.pyc  \n",
            "  inflating: recsys/memories/__pycache__/ItemToItem.cpython-37.pyc  \n",
            "  inflating: recsys/memories/__pycache__/user2user.cpython-36.pyc  \n",
            "  inflating: recsys/memories/__pycache__/ItemToItem.cpython-36.pyc  \n",
            "   creating: recsys/models/\n",
            "  inflating: recsys/models/SVD.py    \n",
            "  inflating: recsys/models/MatrixFactorization.py  \n",
            "  inflating: recsys/models/ExplainableMF.py  \n",
            "  inflating: recsys/models/NonnegativeMF.py  \n",
            "   creating: recsys/models/__pycache__/\n",
            "  inflating: recsys/models/__pycache__/SVD.cpython-36.pyc  \n",
            "  inflating: recsys/models/__pycache__/MatrixFactorization.cpython-37.pyc  \n",
            "  inflating: recsys/models/__pycache__/ExplainableMF.cpython-36.pyc  \n",
            "  inflating: recsys/models/__pycache__/ExplainableMF.cpython-37.pyc  \n",
            "  inflating: recsys/models/__pycache__/MatrixFactorization.cpython-36.pyc  \n",
            "   creating: recsys/metrics/\n",
            "  inflating: recsys/metrics/EvaluationMetrics.py  \n",
            "   creating: recsys/img/\n",
            "  inflating: recsys/img/MF-and-NNMF.png  \n",
            "  inflating: recsys/img/svd.png      \n",
            "  inflating: recsys/img/MF.png       \n",
            "   creating: recsys/predictions/\n",
            "   creating: recsys/predictions/item2item/\n",
            "   creating: recsys/weights/\n",
            "   creating: recsys/weights/item2item/\n",
            "   creating: recsys/weights/item2item/ml1m/\n",
            "  inflating: recsys/weights/item2item/ml1m/similarities.npy  \n",
            "  inflating: recsys/weights/item2item/ml1m/neighbors.npy  \n",
            "   creating: recsys/weights/item2item/ml100k/\n",
            "  inflating: recsys/weights/item2item/ml100k/similarities.npy  \n",
            "  inflating: recsys/weights/item2item/ml100k/neighbors.npy  \n"
          ]
        }
      ],
      "source": [
        "import os\n",
        "#Check if we already have the 'recsys' folder\n",
        "if not (os.path.exists(\"recsys.zip\") or os.path.exists(\"recsys\")):\n",
        "    # If not then download directly from the source\n",
        "    !wget https://github.com/nzhinusoftcm/review-on-collaborative-filtering/raw/master/recsys.zip    \n",
        "    !unzip recsys.zip"
      ]
    },
    {
      "cell_type": "markdown",
      "source": [
        "### Requirements\n",
        "Other than the 'recsys' folder, we also have to make sure that the other required libs have already been installed<br>\n",
        "```\n",
        "matplotlib==3.2.2\n",
        "numpy==1.19.2\n",
        "pandas==1.0.5\n",
        "python==3.7\n",
        "scikit-learn==0.24.1\n",
        "scikit-surprise==1.1.1\n",
        "scipy==1.6.2\n",
        "```\n",
        "(If we use Google Colab, most of these libs are already installed and up-to-date, except for *scikit-surprise* which is not pre-installed by Google Colab) "
      ],
      "metadata": {
        "id": "eVMMmKciUXye"
      }
    },
    {
      "cell_type": "markdown",
      "source": [
        "\n",
        "Because *scikit-surprise* is required by current notebook, we're going to install *scikit-surprise* right away"
      ],
      "metadata": {
        "id": "AOg9jmSJUikh"
      }
    },
    {
      "cell_type": "code",
      "source": [
        "!pip install surprise"
      ],
      "metadata": {
        "colab": {
          "base_uri": "https://localhost:8080/"
        },
        "id": "VAysaJYkUksP",
        "outputId": "2c93dae5-0321-4209-9330-a42a2b62d9b0"
      },
      "execution_count": 2,
      "outputs": [
        {
          "output_type": "stream",
          "name": "stdout",
          "text": [
            "Looking in indexes: https://pypi.org/simple, https://us-python.pkg.dev/colab-wheels/public/simple/\n",
            "Collecting surprise\n",
            "  Downloading surprise-0.1-py2.py3-none-any.whl (1.8 kB)\n",
            "Collecting scikit-surprise\n",
            "  Downloading scikit-surprise-1.1.3.tar.gz (771 kB)\n",
            "\u001b[2K     \u001b[90m━━━━━━━━━━━━━━━━━━━━━━━━━━━━━━━━━━━━━━\u001b[0m \u001b[32m772.0/772.0 KB\u001b[0m \u001b[31m15.4 MB/s\u001b[0m eta \u001b[36m0:00:00\u001b[0m\n",
            "\u001b[?25h  Preparing metadata (setup.py) ... \u001b[?25l\u001b[?25hdone\n",
            "Requirement already satisfied: joblib>=1.0.0 in /usr/local/lib/python3.8/dist-packages (from scikit-surprise->surprise) (1.2.0)\n",
            "Requirement already satisfied: numpy>=1.17.3 in /usr/local/lib/python3.8/dist-packages (from scikit-surprise->surprise) (1.21.6)\n",
            "Requirement already satisfied: scipy>=1.3.2 in /usr/local/lib/python3.8/dist-packages (from scikit-surprise->surprise) (1.7.3)\n",
            "Building wheels for collected packages: scikit-surprise\n",
            "  Building wheel for scikit-surprise (setup.py) ... \u001b[?25l\u001b[?25hdone\n",
            "  Created wheel for scikit-surprise: filename=scikit_surprise-1.1.3-cp38-cp38-linux_x86_64.whl size=2626484 sha256=6a83221df4245477e57cba3d14e9c59c26f18e4c4de33cb236f3cd7cd16362ea\n",
            "  Stored in directory: /root/.cache/pip/wheels/af/db/86/2c18183a80ba05da35bf0fb7417aac5cddbd93bcb1b92fd3ea\n",
            "Successfully built scikit-surprise\n",
            "Installing collected packages: scikit-surprise, surprise\n",
            "Successfully installed scikit-surprise-1.1.3 surprise-0.1\n"
          ]
        }
      ]
    },
    {
      "cell_type": "markdown",
      "source": [
        "Import all of the required libs"
      ],
      "metadata": {
        "id": "a65FIvofUmhA"
      }
    },
    {
      "cell_type": "code",
      "execution_count": 3,
      "metadata": {
        "id": "z3CiWzKJ4QlQ"
      },
      "outputs": [],
      "source": [
        "from recsys.memories.UserToUser import UserToUser\n",
        "from recsys.memories.ItemToItem import ItemToItem\n",
        "\n",
        "from recsys.models.MatrixFactorization import MF\n",
        "from recsys.models.ExplainableMF import EMF, explainable_score\n",
        "\n",
        "from recsys.preprocessing import normalized_ratings\n",
        "from recsys.preprocessing import train_test_split\n",
        "from recsys.preprocessing import rating_matrix\n",
        "from recsys.preprocessing import scale_ratings\n",
        "from recsys.preprocessing import mean_ratings\n",
        "from recsys.preprocessing import get_examples\n",
        "from recsys.preprocessing import ids_encoder\n",
        "\n",
        "from recsys.datasets import ml100k\n",
        "from recsys.datasets import ml1m\n",
        "\n",
        "from sklearn.preprocessing import LabelEncoder\n",
        "\n",
        "import matplotlib.pyplot as plt\n",
        "import pandas as pd\n",
        "import numpy as np\n",
        "\n",
        "import os"
      ]
    },
    {
      "cell_type": "markdown",
      "metadata": {
        "id": "lyOiWREG4QlY"
      },
      "source": [
        "## 1. Results on MovieLens 100k Dataset"
      ]
    },
    {
      "cell_type": "markdown",
      "metadata": {
        "id": "4ccHqnsB4Qlc"
      },
      "source": [
        "### 1.1. User-based CF"
      ]
    },
    {
      "cell_type": "code",
      "execution_count": 4,
      "metadata": {
        "colab": {
          "base_uri": "https://localhost:8080/"
        },
        "id": "FIH5V9Ke4Qlf",
        "outputId": "aeb047ff-131f-41a6-ac1c-11e635778596"
      },
      "outputs": [
        {
          "output_type": "stream",
          "name": "stdout",
          "text": [
            "Download data 100.2%\n",
            "Successfully downloaded ml-100k.zip 4924029 bytes.\n",
            "Unzipping the ml-100k.zip zip file ...\n"
          ]
        }
      ],
      "source": [
        "# Load data\n",
        "ratings, movies = ml100k.load()\n",
        "\n",
        "# Encode userid and itemid in ratings\n",
        "ratings, uencoder, iencoder = ids_encoder(ratings)\n",
        "\n",
        "# Get examples as tuples of userids and itemids and labels from raw ratings\n",
        "raw_examples, raw_labels = get_examples(ratings, labels_column='rating')\n",
        "\n",
        "# Split dataset into train set and test set\n",
        "(x_train, x_test), (y_train, y_test) = train_test_split(examples=raw_examples, labels=raw_labels)"
      ]
    },
    {
      "cell_type": "markdown",
      "source": [
        "#### 1.1.1 Evaluation with Euclidean Distance"
      ],
      "metadata": {
        "id": "5McrX3gqXXHv"
      }
    },
    {
      "cell_type": "code",
      "source": [
        "# Evaluate with Euclidean distance\n",
        "usertouser = UserToUser(ratings, movies, metric='euclidean')\n",
        "print(\"==========================\")\n",
        "usertouser.evaluate(x_test, y_test)"
      ],
      "metadata": {
        "colab": {
          "base_uri": "https://localhost:8080/"
        },
        "id": "xcUXsZgNXeT9",
        "outputId": "b27dde15-b35d-4622-8909-2af5252c21cd"
      },
      "execution_count": 5,
      "outputs": [
        {
          "output_type": "stream",
          "name": "stdout",
          "text": [
            "Normalize users ratings ...\n",
            "Initialize the similarity model ...\n",
            "Compute nearest neighbors ...\n",
            "User to user recommendation model created with success ...\n",
            "==========================\n",
            "Evaluate the model on 10000 test data ...\n",
            "\n",
            "MAE : 0.8125945111976461\n"
          ]
        },
        {
          "output_type": "execute_result",
          "data": {
            "text/plain": [
              "0.8125945111976461"
            ]
          },
          "metadata": {},
          "execution_count": 5
        }
      ]
    },
    {
      "cell_type": "markdown",
      "source": [
        "#### 1.1.2 Evaluation with Cosine Similarity"
      ],
      "metadata": {
        "id": "G6jL1o-bXcr4"
      }
    },
    {
      "cell_type": "code",
      "execution_count": 6,
      "metadata": {
        "colab": {
          "base_uri": "https://localhost:8080/"
        },
        "id": "dDWEAuzd4Qlr",
        "outputId": "f77149b7-b375-4061-d019-459fdc8afe95"
      },
      "outputs": [
        {
          "output_type": "stream",
          "name": "stdout",
          "text": [
            "Normalize users ratings ...\n",
            "Initialize the similarity model ...\n",
            "Compute nearest neighbors ...\n",
            "User to user recommendation model created with success ...\n",
            "=========================\n",
            "Evaluate the model on 10000 test data ...\n",
            "\n",
            "MAE : 0.7505910931068639\n"
          ]
        },
        {
          "output_type": "execute_result",
          "data": {
            "text/plain": [
              "0.7505910931068639"
            ]
          },
          "metadata": {},
          "execution_count": 6
        }
      ],
      "source": [
        "# Evaluate with cosine similarity\n",
        "usertouser = UserToUser(ratings, movies, metric='cosine')\n",
        "print(\"=========================\")\n",
        "usertouser.evaluate(x_test, y_test)"
      ]
    },
    {
      "cell_type": "markdown",
      "metadata": {
        "id": "-s0CcrFl4Qlw"
      },
      "source": [
        "### 1.2. Item-based CF"
      ]
    },
    {
      "cell_type": "code",
      "execution_count": 7,
      "metadata": {
        "id": "tdG157u14Qlz"
      },
      "outputs": [],
      "source": [
        "# Load data\n",
        "ratings, movies = ml100k.load()\n",
        "\n",
        "# Encode userid and itemid in ratings\n",
        "ratings, uencoder, iencoder = ids_encoder(ratings)\n",
        "\n",
        "# Get examples as tuples of userids and itemids and labels from raw ratings\n",
        "raw_examples, raw_labels = get_examples(ratings, labels_column='rating')\n",
        "\n",
        "# Split dataset into train set and test set\n",
        "(x_train, x_test), (y_train, y_test) = train_test_split(examples=raw_examples, labels=raw_labels)"
      ]
    },
    {
      "cell_type": "markdown",
      "metadata": {
        "id": "8JllSMeQ4Ql2"
      },
      "source": [
        "#### 1.2.1 Evaluation with Euclidean Distance"
      ]
    },
    {
      "cell_type": "code",
      "execution_count": 8,
      "metadata": {
        "colab": {
          "base_uri": "https://localhost:8080/"
        },
        "id": "tRMYEZx44Ql5",
        "outputId": "1744a95e-2bae-4f6c-8e6d-b957cab9a629"
      },
      "outputs": [
        {
          "output_type": "stream",
          "name": "stdout",
          "text": [
            "Normalize ratings ...\n",
            "Create the similarity model ...\n",
            "Compute nearest neighbors ...\n",
            "Item to item recommendation model created with success ...\n",
            "==================\n",
            "Evaluate the model on 10000 test data ...\n",
            "\n",
            "MAE : 0.8277111416143341\n"
          ]
        },
        {
          "output_type": "execute_result",
          "data": {
            "text/plain": [
              "0.8277111416143341"
            ]
          },
          "metadata": {},
          "execution_count": 8
        }
      ],
      "source": [
        "# Evaluation with Euclidean distance\n",
        "itemtoitem = ItemToItem(ratings, movies, metric='euclidean')\n",
        "print(\"==================\")\n",
        "itemtoitem.evaluate(x_test, y_test)"
      ]
    },
    {
      "cell_type": "markdown",
      "source": [
        "#### 1.2.2 Evaluation with Cosine Similarity"
      ],
      "metadata": {
        "id": "ljdpl_ilXL-H"
      }
    },
    {
      "cell_type": "code",
      "source": [
        "# Evaluation with cosine similarity\n",
        "itemtoitem = ItemToItem(ratings, movies, metric='cosine')\n",
        "print(\"==================\")\n",
        "itemtoitem.evaluate(x_test, y_test)"
      ],
      "metadata": {
        "colab": {
          "base_uri": "https://localhost:8080/"
        },
        "id": "VDsyqogzXKfh",
        "outputId": "e865bd47-2746-47a6-a401-58a1672d84c5"
      },
      "execution_count": 9,
      "outputs": [
        {
          "output_type": "stream",
          "name": "stdout",
          "text": [
            "Normalize ratings ...\n",
            "Create the similarity model ...\n",
            "Compute nearest neighbors ...\n",
            "Item to item recommendation model created with success ...\n",
            "==================\n",
            "Evaluate the model on 10000 test data ...\n",
            "\n",
            "MAE : 0.507794195659005\n"
          ]
        },
        {
          "output_type": "execute_result",
          "data": {
            "text/plain": [
              "0.507794195659005"
            ]
          },
          "metadata": {},
          "execution_count": 9
        }
      ]
    },
    {
      "cell_type": "markdown",
      "metadata": {
        "id": "1lkiixmw4Ql8"
      },
      "source": [
        "## 1.3. Matrix Factorization"
      ]
    },
    {
      "cell_type": "code",
      "execution_count": 10,
      "metadata": {
        "id": "nurSAs2D4Ql-"
      },
      "outputs": [],
      "source": [
        "#Define the number of epoch for training process\n",
        "epochs = 10"
      ]
    },
    {
      "cell_type": "code",
      "execution_count": 11,
      "metadata": {
        "colab": {
          "base_uri": "https://localhost:8080/"
        },
        "id": "GQ2CbEGH4Ql_",
        "outputId": "903afd19-254e-430e-ff32-82b9edbb906c"
      },
      "outputs": [
        {
          "output_type": "stream",
          "name": "stdout",
          "text": [
            "Training Matrix Factorization Model ...\n",
            "k=10 \t alpha=0.01 \t lambda=1.5\n",
            "epoch 1/10 - loss : 2.734 - val_loss : 2.779\n",
            "epoch 2/10 - loss : 1.764 - val_loss : 1.794\n",
            "epoch 3/10 - loss : 1.592 - val_loss : 1.614\n",
            "epoch 4/10 - loss : 1.538 - val_loss : 1.556\n",
            "epoch 5/10 - loss : 1.515 - val_loss : 1.531\n",
            "epoch 6/10 - loss : 1.503 - val_loss : 1.517\n",
            "epoch 7/10 - loss : 1.496 - val_loss : 1.509\n",
            "epoch 8/10 - loss : 1.491 - val_loss : 1.504\n",
            "epoch 9/10 - loss : 1.488 - val_loss : 1.5\n",
            "epoch 10/10 - loss : 1.486 - val_loss : 1.497\n",
            "==================\n",
            "validation error : 1.497\n"
          ]
        },
        {
          "output_type": "execute_result",
          "data": {
            "text/plain": [
              "1.4973507972141993"
            ]
          },
          "metadata": {},
          "execution_count": 11
        }
      ],
      "source": [
        "# Load the ml100k dataset\n",
        "ratings, movies = ml100k.load()\n",
        "\n",
        "# Encode userid and itemid in ratings\n",
        "ratings, uencoder, iencoder = ids_encoder(ratings)\n",
        "\n",
        "m = ratings.userid.nunique()   # total number of users\n",
        "n = ratings.itemid.nunique()   # total number of items\n",
        "\n",
        "# Get examples as tuples of userids and itemids and labels from raw ratings\n",
        "raw_examples, raw_labels = get_examples(ratings)\n",
        "\n",
        "# Split dataset into train set and test set\n",
        "(x_train, x_test), (y_train, y_test) = train_test_split(examples=raw_examples, labels=raw_labels)\n",
        "\n",
        "# Create the model\n",
        "mf = MF(m, n, k=10, alpha=0.01, lamb=1.5)\n",
        "\n",
        "# Fit the model on the training set\n",
        "history = mf.fit(x_train, y_train, epochs=epochs, validation_data=(x_test, y_test))\n",
        "\n",
        "# Evaluate the model with testing set\n",
        "print(\"==================\")\n",
        "mf.evaluate(x_test, y_test)"
      ]
    },
    {
      "cell_type": "markdown",
      "metadata": {
        "id": "kRKDi9RJ4QmC"
      },
      "source": [
        "## 1.4. Non-negative Matrix Factorization"
      ]
    },
    {
      "cell_type": "code",
      "execution_count": 12,
      "metadata": {
        "colab": {
          "base_uri": "https://localhost:8080/"
        },
        "id": "p2hyTs1f4QmD",
        "outputId": "26e914a7-29a5-4e43-94e1-caf7b08857b1"
      },
      "outputs": [
        {
          "output_type": "stream",
          "name": "stdout",
          "text": [
            "Dataset ml-100k could not be found. Do you want to download it? [Y/n] Y\n",
            "Trying to download dataset from https://files.grouplens.org/datasets/movielens/ml-100k.zip...\n",
            "Done! Dataset ml-100k has been saved to /root/.surprise_data/ml-100k\n",
            "Evaluating MAE of algorithm NMF on 5 split(s).\n",
            "\n",
            "                  Fold 1  Fold 2  Fold 3  Fold 4  Fold 5  Mean    Std     \n",
            "MAE (testset)     0.9615  0.9501  0.9548  0.9582  0.9675  0.9584  0.0059  \n",
            "Fit time          0.55    0.45    0.49    0.45    0.50    0.49    0.04    \n",
            "Test time         0.18    0.29    0.14    0.23    0.15    0.20    0.06    \n"
          ]
        }
      ],
      "source": [
        "from surprise import NMF\n",
        "from surprise import Dataset\n",
        "from surprise.model_selection import cross_validate\n",
        "\n",
        "# Load the movielens-100k dataset (download it if needed).\n",
        "data = Dataset.load_builtin('ml-100k')\n",
        "\n",
        "# Use the NMF algorithm.\n",
        "nmf = NMF(n_factors=10, n_epochs=10)\n",
        "\n",
        "# Run 5-fold cross-validation and print results.\n",
        "history = cross_validate(nmf, data, measures=['MAE'], cv=5, verbose=True)"
      ]
    },
    {
      "cell_type": "markdown",
      "metadata": {
        "id": "5Nfi3mQm4QmF"
      },
      "source": [
        "## 1.5. Explainable Matrix Factorization"
      ]
    },
    {
      "cell_type": "code",
      "execution_count": 13,
      "metadata": {
        "colab": {
          "base_uri": "https://localhost:8080/"
        },
        "id": "aUfr62aI4QmG",
        "outputId": "b41936d5-8b80-4a57-8151-74957390f02a"
      },
      "outputs": [
        {
          "output_type": "stream",
          "name": "stdout",
          "text": [
            "Normalize users ratings ...\n",
            "Initialize the similarity model ...\n",
            "Compute nearest neighbors ...\n",
            "User to user recommendation model created with success ...\n",
            "Compute explainable scores ...\n",
            "===================\n",
            "Training EMF\n",
            "k=10 \t alpha=0.01 \t beta=0.4 \t lambda=0.01\n",
            "epoch 1/10 - loss : 0.922 - val_loss : 1.036\n",
            "epoch 2/10 - loss : 0.79 - val_loss : 0.873\n",
            "epoch 3/10 - loss : 0.766 - val_loss : 0.837\n",
            "epoch 4/10 - loss : 0.757 - val_loss : 0.822\n",
            "epoch 5/10 - loss : 0.753 - val_loss : 0.814\n",
            "epoch 6/10 - loss : 0.751 - val_loss : 0.808\n",
            "epoch 7/10 - loss : 0.749 - val_loss : 0.805\n",
            "epoch 8/10 - loss : 0.748 - val_loss : 0.802\n",
            "epoch 9/10 - loss : 0.746 - val_loss : 0.799\n",
            "epoch 10/10 - loss : 0.745 - val_loss : 0.797\n",
            "===================\n",
            "MAE : 0.797\n"
          ]
        },
        {
          "output_type": "execute_result",
          "data": {
            "text/plain": [
              "0.797347824723284"
            ]
          },
          "metadata": {},
          "execution_count": 13
        }
      ],
      "source": [
        "# load data\n",
        "ratings, movies = ml100k.load()\n",
        "\n",
        "# Encode userid and itemid in ratings\n",
        "ratings, uencoder, iencoder = ids_encoder(ratings)\n",
        "\n",
        "users = sorted(ratings.userid.unique())\n",
        "items = sorted(ratings.itemid.unique())\n",
        "\n",
        "m = len(users)\n",
        "n = len(items)\n",
        "\n",
        "# Get examples as tuples of userids and itemids and labels from raw ratings\n",
        "raw_examples, raw_labels = get_examples(ratings)\n",
        "\n",
        "# Split dataset into train set and test set\n",
        "(x_train, x_test), (y_train, y_test) = train_test_split(examples=raw_examples, labels=raw_labels)\n",
        "\n",
        "# Create the user to user model for similarity measure\n",
        "usertouser = UserToUser(ratings, movies)\n",
        "\n",
        "# Compute explainable score\n",
        "W = explainable_score(usertouser, users, items)\n",
        "\n",
        "print(\"===================\")\n",
        "# Create the model\n",
        "emf = EMF(m, n, W, alpha=0.01, beta=0.4, lamb=0.01, k=10)\n",
        "# Train the model with training data\n",
        "history = emf.fit(x_train, y_train, epochs=epochs, validation_data=(x_test, y_test))\n",
        "\n",
        "print(\"===================\")\n",
        "#Evaluate model with testing data\n",
        "emf.evaluate(x_test, y_test)"
      ]
    },
    {
      "cell_type": "markdown",
      "metadata": {
        "id": "0EbosTId4QmJ"
      },
      "source": [
        "## 3. Results on MovieLens 1M (ML-1M)"
      ]
    },
    {
      "cell_type": "markdown",
      "metadata": {
        "id": "nRyW788w4QmK"
      },
      "source": [
        "### 3.1. User-based CF"
      ]
    },
    {
      "cell_type": "code",
      "execution_count": 14,
      "metadata": {
        "colab": {
          "base_uri": "https://localhost:8080/"
        },
        "id": "TXgNxet_4QmL",
        "outputId": "95e98e86-09cb-4c8e-f58d-d1991094dffa"
      },
      "outputs": [
        {
          "output_type": "stream",
          "name": "stdout",
          "text": [
            "Download data 100.1%\n",
            "Successfully downloaded ml-1m.zip 5917549 bytes.\n",
            "Unzipping the ml-1m.zip zip file ...\n"
          ]
        }
      ],
      "source": [
        "# load ml100k ratings\n",
        "ratings, movies = ml1m.load()\n",
        "\n",
        "# Encode userid and itemid in ratings\n",
        "ratings, uencoder, iencoder = ids_encoder(ratings)\n",
        "\n",
        "# get examples as tuples of userids and itemids and labels from normalize ratings\n",
        "raw_examples, raw_labels = get_examples(ratings, labels_column='rating')\n",
        "\n",
        "# Split dataset into train set and test set\n",
        "(x_train, x_test), (y_train, y_test) = train_test_split(examples=raw_examples, labels=raw_labels)"
      ]
    },
    {
      "cell_type": "markdown",
      "source": [
        "#### 3.1.1 Evaluation with Euclidean Distance"
      ],
      "metadata": {
        "id": "qkxM_MnCYQ8o"
      }
    },
    {
      "cell_type": "code",
      "source": [
        "# Create the user-based CF with 'euclidean' metric\n",
        "usertouser = UserToUser(ratings, movies, k=20, metric='euclidean')\n",
        "\n",
        "# Evaluate the user-based CF on the ml1m test data\n",
        "print(\"==========================\")\n",
        "usertouser.evaluate(x_test, y_test)"
      ],
      "metadata": {
        "colab": {
          "base_uri": "https://localhost:8080/"
        },
        "id": "ClzdVAH8YRUI",
        "outputId": "4a62e172-febc-426f-a126-f3fe80b9122c"
      },
      "execution_count": 15,
      "outputs": [
        {
          "output_type": "stream",
          "name": "stdout",
          "text": [
            "Normalize users ratings ...\n",
            "Initialize the similarity model ...\n",
            "Compute nearest neighbors ...\n",
            "User to user recommendation model created with success ...\n",
            "==========================\n",
            "Evaluate the model on 100021 test data ...\n",
            "\n",
            "MAE : 0.8069332535426614\n"
          ]
        },
        {
          "output_type": "execute_result",
          "data": {
            "text/plain": [
              "0.8069332535426614"
            ]
          },
          "metadata": {},
          "execution_count": 15
        }
      ]
    },
    {
      "cell_type": "markdown",
      "source": [
        "#### 3.1.2 Evaluation with Cosine Similarity"
      ],
      "metadata": {
        "id": "sOwLICeNYRok"
      }
    },
    {
      "cell_type": "code",
      "execution_count": 16,
      "metadata": {
        "colab": {
          "base_uri": "https://localhost:8080/"
        },
        "id": "SmrS35pb4QmM",
        "outputId": "b21a843d-27ca-44fd-fb68-7a50fc653f23"
      },
      "outputs": [
        {
          "output_type": "stream",
          "name": "stdout",
          "text": [
            "Normalize users ratings ...\n",
            "Initialize the similarity model ...\n",
            "Compute nearest neighbors ...\n",
            "User to user recommendation model created with success ...\n",
            "==========================\n",
            "Evaluate the model on 100021 test data ...\n",
            "\n",
            "MAE : 0.732267005840993\n"
          ]
        },
        {
          "output_type": "execute_result",
          "data": {
            "text/plain": [
              "0.732267005840993"
            ]
          },
          "metadata": {},
          "execution_count": 16
        }
      ],
      "source": [
        "# Create the user-based CF with 'cosine' metric\n",
        "usertouser = UserToUser(ratings, movies, k=20, metric='cosine')\n",
        "\n",
        "# Evaluate the user-based CF on the ml1m test data\n",
        "print(\"==========================\")\n",
        "usertouser.evaluate(x_test, y_test)"
      ]
    },
    {
      "cell_type": "markdown",
      "metadata": {
        "id": "ANv58s7N4QmO"
      },
      "source": [
        "### 3.2. Item-based CF"
      ]
    },
    {
      "cell_type": "markdown",
      "metadata": {
        "id": "nuO69Zq84QmO"
      },
      "source": [
        "#### 3.2.1. Evaluation with Euclidean Distance"
      ]
    },
    {
      "cell_type": "code",
      "source": [
        "itemtoitem = ItemToItem(ratings, movies, metric='euclidean')\n",
        "print(\"==========================\")\n",
        "#Evaluate model with testing data\n",
        "itemtoitem.evaluate(x_test, y_test)"
      ],
      "metadata": {
        "colab": {
          "base_uri": "https://localhost:8080/"
        },
        "id": "Nf8ota7uYw68",
        "outputId": "4e984421-cf37-4105-d66c-452b133df6f9"
      },
      "execution_count": 17,
      "outputs": [
        {
          "output_type": "stream",
          "name": "stdout",
          "text": [
            "Normalize ratings ...\n",
            "Create the similarity model ...\n",
            "Compute nearest neighbors ...\n",
            "Item to item recommendation model created with success ...\n",
            "==========================\n",
            "Evaluate the model on 100021 test data ...\n",
            "\n",
            "MAE : 0.82502173206615\n"
          ]
        },
        {
          "output_type": "execute_result",
          "data": {
            "text/plain": [
              "0.82502173206615"
            ]
          },
          "metadata": {},
          "execution_count": 17
        }
      ]
    },
    {
      "cell_type": "markdown",
      "metadata": {
        "id": "7MAKfpZB4QmQ"
      },
      "source": [
        "#### 3.2.2 Evaluation with Cosine Similarity"
      ]
    },
    {
      "cell_type": "code",
      "execution_count": 18,
      "metadata": {
        "colab": {
          "base_uri": "https://localhost:8080/"
        },
        "id": "deIDHV8n4QmQ",
        "outputId": "e04945d1-058c-45a2-8c6c-6dc0c3ffb49d"
      },
      "outputs": [
        {
          "output_type": "stream",
          "name": "stdout",
          "text": [
            "Normalize ratings ...\n",
            "Create the similarity model ...\n",
            "Compute nearest neighbors ...\n",
            "Item to item recommendation model created with success ...\n",
            "==========================\n",
            "Evaluate the model on 100021 test data ...\n",
            "\n",
            "MAE : 0.42514728655396045\n"
          ]
        },
        {
          "output_type": "execute_result",
          "data": {
            "text/plain": [
              "0.42514728655396045"
            ]
          },
          "metadata": {},
          "execution_count": 18
        }
      ],
      "source": [
        "itemtoitem = ItemToItem(ratings, movies, metric='cosine')\n",
        "print(\"==========================\")\n",
        "# Evaluate model with testing data\n",
        "itemtoitem.evaluate(x_test, y_test)"
      ]
    },
    {
      "cell_type": "markdown",
      "metadata": {
        "id": "ZcCLttvw4QmR"
      },
      "source": [
        "### 3.3. Matrix Factorization"
      ]
    },
    {
      "cell_type": "code",
      "execution_count": 19,
      "metadata": {
        "colab": {
          "base_uri": "https://localhost:8080/"
        },
        "id": "IxiVrxcN4QmS",
        "outputId": "64b76bc4-124b-44b3-f7dc-ed1252303cdf"
      },
      "outputs": [
        {
          "output_type": "stream",
          "name": "stdout",
          "text": [
            "Training Matrix Factorization Model ...\n",
            "k=10 \t alpha=0.01 \t lambda=1.5\n",
            "epoch 1/10 - loss : 1.713 - val_loss : 1.718\n",
            "epoch 2/10 - loss : 1.523 - val_loss : 1.526\n",
            "epoch 3/10 - loss : 1.496 - val_loss : 1.498\n",
            "epoch 4/10 - loss : 1.489 - val_loss : 1.489\n",
            "epoch 5/10 - loss : 1.485 - val_loss : 1.486\n",
            "epoch 6/10 - loss : 1.484 - val_loss : 1.484\n",
            "epoch 7/10 - loss : 1.483 - val_loss : 1.483\n",
            "epoch 8/10 - loss : 1.483 - val_loss : 1.483\n",
            "epoch 9/10 - loss : 1.482 - val_loss : 1.482\n",
            "epoch 10/10 - loss : 1.482 - val_loss : 1.482\n",
            "===================\n",
            "validation error : 1.482\n"
          ]
        },
        {
          "output_type": "execute_result",
          "data": {
            "text/plain": [
              "1.4820034560467208"
            ]
          },
          "metadata": {},
          "execution_count": 19
        }
      ],
      "source": [
        "# Load the ml1m dataset\n",
        "ratings, movies = ml1m.load()\n",
        "\n",
        "# Encode userid and itemid in ratings\n",
        "ratings, uencoder, iencoder = ids_encoder(ratings)\n",
        "\n",
        "m = ratings.userid.nunique()   # total number of users\n",
        "n = ratings.itemid.nunique()   # total number of items\n",
        "\n",
        "# Get examples as tuples of userids and itemids and labels from raw ratings\n",
        "raw_examples, raw_labels = get_examples(ratings)\n",
        "\n",
        "# Split dataset into train set and test set\n",
        "(x_train, x_test), (y_train, y_test) = train_test_split(examples=raw_examples, labels=raw_labels)\n",
        "\n",
        "# Create the model\n",
        "model = MF(m, n, k=10, alpha=0.01, lamb=1.5)\n",
        "\n",
        "# Fit the model on the training set\n",
        "history = model.fit(x_train, y_train, epochs=epochs, validation_data=(x_test, y_test))\n",
        "\n",
        "print(\"===================\")\n",
        "# Evaluate model with testing data \n",
        "model.evaluate(x_test, y_test)"
      ]
    },
    {
      "cell_type": "markdown",
      "metadata": {
        "id": "GIRc3n_c4QmT"
      },
      "source": [
        "### 3.4. Non-negative Matrix Factorization"
      ]
    },
    {
      "cell_type": "code",
      "execution_count": 20,
      "metadata": {
        "colab": {
          "base_uri": "https://localhost:8080/"
        },
        "id": "bC0UWLBN4QmU",
        "outputId": "433ad29d-84d4-48e7-9cc4-6a5bfe30ffe6"
      },
      "outputs": [
        {
          "output_type": "stream",
          "name": "stdout",
          "text": [
            "Dataset ml-1m could not be found. Do you want to download it? [Y/n] Y\n",
            "Trying to download dataset from https://files.grouplens.org/datasets/movielens/ml-1m.zip...\n",
            "Done! Dataset ml-1m has been saved to /root/.surprise_data/ml-1m\n",
            "Evaluating MAE of algorithm NMF on 5 split(s).\n",
            "\n",
            "                  Fold 1  Fold 2  Fold 3  Fold 4  Fold 5  Mean    Std     \n",
            "MAE (testset)     0.9435  0.9456  0.9527  0.9546  0.9524  0.9498  0.0044  \n",
            "Fit time          5.29    6.11    6.15    5.92    5.61    5.82    0.32    \n",
            "Test time         2.15    3.63    3.68    2.57    4.07    3.22    0.73    \n"
          ]
        }
      ],
      "source": [
        "from surprise import NMF\n",
        "from surprise import Dataset\n",
        "from surprise.model_selection import cross_validate\n",
        "\n",
        "# Load the movielens-100k dataset (download it if needed).\n",
        "data = Dataset.load_builtin('ml-1m')\n",
        "\n",
        "# Use the NMF algorithm.\n",
        "nmf = NMF(n_factors=10, n_epochs=10)\n",
        "\n",
        "# Run 5-fold cross-validation and print results.\n",
        "history = cross_validate(nmf, data, measures=['MAE'], cv=5, verbose=True)"
      ]
    },
    {
      "cell_type": "markdown",
      "metadata": {
        "id": "Mg1JAtLk4QmV"
      },
      "source": [
        "### 3.5. Explainable Matrix Factorization"
      ]
    },
    {
      "cell_type": "code",
      "execution_count": 21,
      "metadata": {
        "colab": {
          "base_uri": "https://localhost:8080/"
        },
        "id": "oGhYwzmt4QmW",
        "outputId": "07391b3a-1b84-4f74-d72f-2a03c85e2f2e"
      },
      "outputs": [
        {
          "output_type": "stream",
          "name": "stdout",
          "text": [
            "Normalize users ratings ...\n",
            "Initialize the similarity model ...\n",
            "Compute nearest neighbors ...\n",
            "User to user recommendation model created with success ...\n",
            "Compute explainable scores ...\n",
            "Training EMF\n",
            "k=10 \t alpha=0.01 \t beta=0.4 \t lambda=0.01\n",
            "epoch 1/10 - loss : 0.782 - val_loss : 0.807\n",
            "epoch 2/10 - loss : 0.762 - val_loss : 0.781\n",
            "epoch 3/10 - loss : 0.76 - val_loss : 0.775\n",
            "epoch 4/10 - loss : 0.758 - val_loss : 0.771\n",
            "epoch 5/10 - loss : 0.757 - val_loss : 0.769\n",
            "epoch 6/10 - loss : 0.756 - val_loss : 0.767\n",
            "epoch 7/10 - loss : 0.754 - val_loss : 0.764\n",
            "epoch 8/10 - loss : 0.752 - val_loss : 0.762\n",
            "epoch 9/10 - loss : 0.751 - val_loss : 0.761\n",
            "epoch 10/10 - loss : 0.75 - val_loss : 0.76\n",
            "===================\n",
            "MAE : 0.76\n"
          ]
        },
        {
          "output_type": "execute_result",
          "data": {
            "text/plain": [
              "0.7596115374525224"
            ]
          },
          "metadata": {},
          "execution_count": 21
        }
      ],
      "source": [
        "# Load data\n",
        "ratings, movies = ml1m.load()\n",
        "\n",
        "# Encode userid and itemid in ratings\n",
        "ratings, uencoder, iencoder = ids_encoder(ratings)\n",
        "\n",
        "users = sorted(ratings.userid.unique())\n",
        "items = sorted(ratings.itemid.unique())\n",
        "\n",
        "m = len(users) \n",
        "n = len(items)\n",
        "\n",
        "# Get examples as tuples of userids and itemids and labels from raw ratings\n",
        "raw_examples, raw_labels = get_examples(ratings)\n",
        "\n",
        "# Split dataset into train set and test set\n",
        "(x_train, x_test), (y_train, y_test) = train_test_split(examples=raw_examples, labels=raw_labels)\n",
        "\n",
        "# Create the user to user model for similarity measure\n",
        "usertouser = UserToUser(ratings, movies)\n",
        "\n",
        "# Compute explainable score\n",
        "W = explainable_score(usertouser, users, items)\n",
        "\n",
        "# Construct the model\n",
        "emf = EMF(m, n, W, alpha=0.01, beta=0.4, lamb=0.01, k=10)\n",
        "# Train the model with training set\n",
        "history = emf.fit(x_train, y_train, epochs=epochs, validation_data=(x_test, y_test))\n",
        "\n",
        "print(\"===================\")\n",
        "#Evaluate model with testing data\n",
        "emf.evaluate(x_test, y_test)"
      ]
    },
    {
      "cell_type": "markdown",
      "metadata": {
        "id": "abvdD89N4QmX"
      },
      "source": [
        "## Summary\n",
        "\n",
        "<center> <b> MAE comparison between User-based and Item-based CF </b> </center>\n",
        "\n",
        "|   Metric  | Dataset | User-based | Item-based |\n",
        "|:---------:|:-------:|:----------:|:----------:|\n",
        "| Euclidean | ML-100k |    0.81    |    0.83    |\n",
        "| Euclidean |  ML-1M  |    0.81    |    0.82    |\n",
        "|   Cosine  | ML-100k |    0.75    |    0.51    |\n",
        "|   Cosine  |  ML-1M  |    0.73    |    0.42    |\n",
        "\n",
        "\n",
        "---\n",
        "\n",
        "\n",
        "<center> <b> MAE comparison between MF, NMF and EMF </b> </center>\n",
        "\n",
        "|  Preprocessing  | Dataset |   MF  |   NMF  | EMF   |\n",
        "|:---------------:|:-------:|:-----:|:------:|-------|\n",
        "|     Raw data    | ML-100k | 1.497 |  0.951 | 0.797 |\n",
        "|     Raw data    |  ML-1M  | 1.482 | 0.9567 | 0.76  |\n",
        "| Normalized data | ML-100k | 0.828 |   ---  | 0.783 |\n",
        "| Normalized data |  ML-1M  | 0.825 |   ---  | 0.758 |\n"
      ]
    },
    {
      "cell_type": "markdown",
      "metadata": {
        "id": "M7_F8t104QmY"
      },
      "source": [
        "## Author\n",
        "\n",
        "[Carmel WENGA](https://www.linkedin.com/in/carmel-wenga-871876178/), <br>\n",
        "PhD student at Université de la Polynésie Française, <br> \n",
        "Applied Machine Learning Research Engineer, <br>\n",
        "[ShoppingList](https://shoppinglist.cm), NzhinuSoft."
      ]
    }
  ],
  "metadata": {
    "kernelspec": {
      "display_name": "Python 3",
      "language": "python",
      "name": "python3"
    },
    "language_info": {
      "codemirror_mode": {
        "name": "ipython",
        "version": 3
      },
      "file_extension": ".py",
      "mimetype": "text/x-python",
      "name": "python",
      "nbconvert_exporter": "python",
      "pygments_lexer": "ipython3",
      "version": "3.7.0"
    },
    "colab": {
      "provenance": []
    }
  },
  "nbformat": 4,
  "nbformat_minor": 0
}