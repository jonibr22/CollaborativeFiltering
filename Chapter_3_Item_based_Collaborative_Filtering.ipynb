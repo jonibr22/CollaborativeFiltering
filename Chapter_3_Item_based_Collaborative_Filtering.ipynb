{
  "cells": [
    {
      "cell_type": "markdown",
      "metadata": {
        "id": "i7v3EtAk1nPq"
      },
      "source": [
        "## Chapter 3 - Item-based Collaborative Filtering"
      ]
    },
    {
      "cell_type": "markdown",
      "source": [
        "Before we start, we have to make sure that we already have our dependencies, that is 'recsys' folder"
      ],
      "metadata": {
        "id": "owvp4a_lWIwf"
      }
    },
    {
      "cell_type": "code",
      "source": [
        "import os\n",
        "#Check if we already have the 'recsys' folder\n",
        "if not (os.path.exists(\"recsys.zip\") or os.path.exists(\"recsys\")):\n",
        "    # If not then download directly from the source\n",
        "    !wget https://github.com/nzhinusoftcm/review-on-collaborative-filtering/raw/master/recsys.zip    \n",
        "    !unzip recsys.zip"
      ],
      "metadata": {
        "colab": {
          "base_uri": "https://localhost:8080/"
        },
        "id": "PXh6lpyiWFGg",
        "outputId": "45dda391-fc5a-437c-8046-81268b513942"
      },
      "execution_count": 1,
      "outputs": [
        {
          "output_type": "stream",
          "name": "stdout",
          "text": [
            "--2023-01-03 20:58:12--  https://github.com/nzhinusoftcm/review-on-collaborative-filtering/raw/master/recsys.zip\n",
            "Resolving github.com (github.com)... 140.82.114.3\n",
            "Connecting to github.com (github.com)|140.82.114.3|:443... connected.\n",
            "HTTP request sent, awaiting response... 302 Found\n",
            "Location: https://raw.githubusercontent.com/nzhinusoftcm/review-on-collaborative-filtering/master/recsys.zip [following]\n",
            "--2023-01-03 20:58:12--  https://raw.githubusercontent.com/nzhinusoftcm/review-on-collaborative-filtering/master/recsys.zip\n",
            "Resolving raw.githubusercontent.com (raw.githubusercontent.com)... 185.199.108.133, 185.199.109.133, 185.199.110.133, ...\n",
            "Connecting to raw.githubusercontent.com (raw.githubusercontent.com)|185.199.108.133|:443... connected.\n",
            "HTTP request sent, awaiting response... 200 OK\n",
            "Length: 15312323 (15M) [application/zip]\n",
            "Saving to: ‘recsys.zip’\n",
            "\n",
            "recsys.zip          100%[===================>]  14.60M  --.-KB/s    in 0.05s   \n",
            "\n",
            "2023-01-03 20:58:12 (317 MB/s) - ‘recsys.zip’ saved [15312323/15312323]\n",
            "\n",
            "Archive:  recsys.zip\n",
            "   creating: recsys/\n",
            "  inflating: recsys/datasets.py      \n",
            "  inflating: recsys/preprocessing.py  \n",
            "  inflating: recsys/utils.py         \n",
            "  inflating: recsys/requirements.txt  \n",
            "   creating: recsys/.vscode/\n",
            "  inflating: recsys/.vscode/settings.json  \n",
            "   creating: recsys/__pycache__/\n",
            "  inflating: recsys/__pycache__/datasets.cpython-36.pyc  \n",
            "  inflating: recsys/__pycache__/datasets.cpython-37.pyc  \n",
            "  inflating: recsys/__pycache__/utils.cpython-36.pyc  \n",
            "  inflating: recsys/__pycache__/preprocessing.cpython-37.pyc  \n",
            "  inflating: recsys/__pycache__/datasets.cpython-38.pyc  \n",
            "  inflating: recsys/__pycache__/preprocessing.cpython-36.pyc  \n",
            "  inflating: recsys/__pycache__/preprocessing.cpython-38.pyc  \n",
            "   creating: recsys/memories/\n",
            "  inflating: recsys/memories/ItemToItem.py  \n",
            "  inflating: recsys/memories/UserToUser.py  \n",
            "   creating: recsys/memories/__pycache__/\n",
            "  inflating: recsys/memories/__pycache__/UserToUser.cpython-36.pyc  \n",
            "  inflating: recsys/memories/__pycache__/UserToUser.cpython-37.pyc  \n",
            "  inflating: recsys/memories/__pycache__/ItemToItem.cpython-37.pyc  \n",
            "  inflating: recsys/memories/__pycache__/user2user.cpython-36.pyc  \n",
            "  inflating: recsys/memories/__pycache__/ItemToItem.cpython-36.pyc  \n",
            "   creating: recsys/models/\n",
            "  inflating: recsys/models/SVD.py    \n",
            "  inflating: recsys/models/MatrixFactorization.py  \n",
            "  inflating: recsys/models/ExplainableMF.py  \n",
            "  inflating: recsys/models/NonnegativeMF.py  \n",
            "   creating: recsys/models/__pycache__/\n",
            "  inflating: recsys/models/__pycache__/SVD.cpython-36.pyc  \n",
            "  inflating: recsys/models/__pycache__/MatrixFactorization.cpython-37.pyc  \n",
            "  inflating: recsys/models/__pycache__/ExplainableMF.cpython-36.pyc  \n",
            "  inflating: recsys/models/__pycache__/ExplainableMF.cpython-37.pyc  \n",
            "  inflating: recsys/models/__pycache__/MatrixFactorization.cpython-36.pyc  \n",
            "   creating: recsys/metrics/\n",
            "  inflating: recsys/metrics/EvaluationMetrics.py  \n",
            "   creating: recsys/img/\n",
            "  inflating: recsys/img/MF-and-NNMF.png  \n",
            "  inflating: recsys/img/svd.png      \n",
            "  inflating: recsys/img/MF.png       \n",
            "   creating: recsys/predictions/\n",
            "   creating: recsys/predictions/item2item/\n",
            "   creating: recsys/weights/\n",
            "   creating: recsys/weights/item2item/\n",
            "   creating: recsys/weights/item2item/ml1m/\n",
            "  inflating: recsys/weights/item2item/ml1m/similarities.npy  \n",
            "  inflating: recsys/weights/item2item/ml1m/neighbors.npy  \n",
            "   creating: recsys/weights/item2item/ml100k/\n",
            "  inflating: recsys/weights/item2item/ml100k/similarities.npy  \n",
            "  inflating: recsys/weights/item2item/ml100k/neighbors.npy  \n"
          ]
        }
      ]
    },
    {
      "cell_type": "markdown",
      "metadata": {
        "id": "thRV2ZQ21nP1"
      },
      "source": [
        "### Requirements\n",
        "Other than the 'recsys' folder, we also have to make sure that the other required libs have already been installed<br>\n",
        "```\n",
        "matplotlib==3.2.2\n",
        "numpy==1.19.2\n",
        "pandas==1.0.5\n",
        "python==3.7\n",
        "scikit-learn==0.24.1\n",
        "scikit-surprise==1.1.1\n",
        "scipy==1.6.2\n",
        "```\n",
        "(If we use Google Colab, most of these libs are already installed and up-to-date, except for *scikit-surprise* which is not pre-installed by Google Colab) "
      ]
    },
    {
      "cell_type": "markdown",
      "source": [
        "To install scikit-surprise on Google Colab, we must execute the code below\n",
        "```\n",
        "!pip install surprise\n",
        "```\n",
        "But this notebook doesn't require this library yet, so we're not going to install scikit-surprise at the moment"
      ],
      "metadata": {
        "id": "Sjg1GhfpjByi"
      }
    },
    {
      "cell_type": "markdown",
      "metadata": {
        "id": "X8COHXoI1nP1"
      },
      "source": [
        "Import all of the required libs"
      ]
    },
    {
      "cell_type": "code",
      "execution_count": 2,
      "metadata": {
        "id": "wE2m8iHm1nP1"
      },
      "outputs": [],
      "source": [
        "from sklearn.neighbors import NearestNeighbors\n",
        "from scipy.sparse import csr_matrix\n",
        "\n",
        "from recsys.datasets import ml1m, ml100k\n",
        "from recsys.preprocessing import ids_encoder\n",
        "\n",
        "import pandas as pd\n",
        "import numpy as np\n",
        "import os\n",
        "import sys"
      ]
    },
    {
      "cell_type": "markdown",
      "metadata": {
        "id": "Un48Wg9gy3cR"
      },
      "source": [
        "### Load Movielens Data"
      ]
    },
    {
      "cell_type": "markdown",
      "source": [
        "Instead of using Movielens Latest Small Data, we're going to use Movielens 100K Data as it is a stable benchmark and won't change over time"
      ],
      "metadata": {
        "id": "LQawn9p0EPWs"
      }
    },
    {
      "cell_type": "code",
      "execution_count": 3,
      "metadata": {
        "id": "xpLqlLMiy3cT",
        "colab": {
          "base_uri": "https://localhost:8080/"
        },
        "outputId": "d241c2ae-02ec-4c5b-e6c4-8dd167effcaf"
      },
      "outputs": [
        {
          "output_type": "stream",
          "name": "stdout",
          "text": [
            "Download data 100.2%\n",
            "Successfully downloaded ml-100k.zip 4924029 bytes.\n",
            "Unzipping the ml-100k.zip zip file ...\n"
          ]
        }
      ],
      "source": [
        "ratings, movies = ml100k.load()"
      ]
    },
    {
      "cell_type": "markdown",
      "source": [
        "What's the difference between *Movielens Latest Small Data* and *Movielens 100K Data*?<br>\n",
        "According to <a href=\"https://grouplens.org/datasets/movielens/\">GroupLens</a>, *Movielens Latest Small Data* will change overtime while *Movielens 100K Data* is a stable benchmark released in 1998 and won't change over time"
      ],
      "metadata": {
        "id": "tvwsXJV8Hu6a"
      }
    },
    {
      "cell_type": "markdown",
      "source": [
        "What's the difference between those two data in terms of content?"
      ],
      "metadata": {
        "id": "NumHash_HpKl"
      }
    },
    {
      "cell_type": "code",
      "source": [
        "ratings.head()"
      ],
      "metadata": {
        "colab": {
          "base_uri": "https://localhost:8080/",
          "height": 206
        },
        "id": "9FVB0s9HHi5D",
        "outputId": "b3318751-bf7a-4818-a21a-49b63c4c9fff"
      },
      "execution_count": 4,
      "outputs": [
        {
          "output_type": "execute_result",
          "data": {
            "text/plain": [
              "   userid  itemid  rating\n",
              "0       1       1       5\n",
              "1       1       2       3\n",
              "2       1       3       4\n",
              "3       1       4       3\n",
              "4       1       5       3"
            ],
            "text/html": [
              "\n",
              "  <div id=\"df-3e69f4cf-0181-4f66-8263-492df1493bb4\">\n",
              "    <div class=\"colab-df-container\">\n",
              "      <div>\n",
              "<style scoped>\n",
              "    .dataframe tbody tr th:only-of-type {\n",
              "        vertical-align: middle;\n",
              "    }\n",
              "\n",
              "    .dataframe tbody tr th {\n",
              "        vertical-align: top;\n",
              "    }\n",
              "\n",
              "    .dataframe thead th {\n",
              "        text-align: right;\n",
              "    }\n",
              "</style>\n",
              "<table border=\"1\" class=\"dataframe\">\n",
              "  <thead>\n",
              "    <tr style=\"text-align: right;\">\n",
              "      <th></th>\n",
              "      <th>userid</th>\n",
              "      <th>itemid</th>\n",
              "      <th>rating</th>\n",
              "    </tr>\n",
              "  </thead>\n",
              "  <tbody>\n",
              "    <tr>\n",
              "      <th>0</th>\n",
              "      <td>1</td>\n",
              "      <td>1</td>\n",
              "      <td>5</td>\n",
              "    </tr>\n",
              "    <tr>\n",
              "      <th>1</th>\n",
              "      <td>1</td>\n",
              "      <td>2</td>\n",
              "      <td>3</td>\n",
              "    </tr>\n",
              "    <tr>\n",
              "      <th>2</th>\n",
              "      <td>1</td>\n",
              "      <td>3</td>\n",
              "      <td>4</td>\n",
              "    </tr>\n",
              "    <tr>\n",
              "      <th>3</th>\n",
              "      <td>1</td>\n",
              "      <td>4</td>\n",
              "      <td>3</td>\n",
              "    </tr>\n",
              "    <tr>\n",
              "      <th>4</th>\n",
              "      <td>1</td>\n",
              "      <td>5</td>\n",
              "      <td>3</td>\n",
              "    </tr>\n",
              "  </tbody>\n",
              "</table>\n",
              "</div>\n",
              "      <button class=\"colab-df-convert\" onclick=\"convertToInteractive('df-3e69f4cf-0181-4f66-8263-492df1493bb4')\"\n",
              "              title=\"Convert this dataframe to an interactive table.\"\n",
              "              style=\"display:none;\">\n",
              "        \n",
              "  <svg xmlns=\"http://www.w3.org/2000/svg\" height=\"24px\"viewBox=\"0 0 24 24\"\n",
              "       width=\"24px\">\n",
              "    <path d=\"M0 0h24v24H0V0z\" fill=\"none\"/>\n",
              "    <path d=\"M18.56 5.44l.94 2.06.94-2.06 2.06-.94-2.06-.94-.94-2.06-.94 2.06-2.06.94zm-11 1L8.5 8.5l.94-2.06 2.06-.94-2.06-.94L8.5 2.5l-.94 2.06-2.06.94zm10 10l.94 2.06.94-2.06 2.06-.94-2.06-.94-.94-2.06-.94 2.06-2.06.94z\"/><path d=\"M17.41 7.96l-1.37-1.37c-.4-.4-.92-.59-1.43-.59-.52 0-1.04.2-1.43.59L10.3 9.45l-7.72 7.72c-.78.78-.78 2.05 0 2.83L4 21.41c.39.39.9.59 1.41.59.51 0 1.02-.2 1.41-.59l7.78-7.78 2.81-2.81c.8-.78.8-2.07 0-2.86zM5.41 20L4 18.59l7.72-7.72 1.47 1.35L5.41 20z\"/>\n",
              "  </svg>\n",
              "      </button>\n",
              "      \n",
              "  <style>\n",
              "    .colab-df-container {\n",
              "      display:flex;\n",
              "      flex-wrap:wrap;\n",
              "      gap: 12px;\n",
              "    }\n",
              "\n",
              "    .colab-df-convert {\n",
              "      background-color: #E8F0FE;\n",
              "      border: none;\n",
              "      border-radius: 50%;\n",
              "      cursor: pointer;\n",
              "      display: none;\n",
              "      fill: #1967D2;\n",
              "      height: 32px;\n",
              "      padding: 0 0 0 0;\n",
              "      width: 32px;\n",
              "    }\n",
              "\n",
              "    .colab-df-convert:hover {\n",
              "      background-color: #E2EBFA;\n",
              "      box-shadow: 0px 1px 2px rgba(60, 64, 67, 0.3), 0px 1px 3px 1px rgba(60, 64, 67, 0.15);\n",
              "      fill: #174EA6;\n",
              "    }\n",
              "\n",
              "    [theme=dark] .colab-df-convert {\n",
              "      background-color: #3B4455;\n",
              "      fill: #D2E3FC;\n",
              "    }\n",
              "\n",
              "    [theme=dark] .colab-df-convert:hover {\n",
              "      background-color: #434B5C;\n",
              "      box-shadow: 0px 1px 3px 1px rgba(0, 0, 0, 0.15);\n",
              "      filter: drop-shadow(0px 1px 2px rgba(0, 0, 0, 0.3));\n",
              "      fill: #FFFFFF;\n",
              "    }\n",
              "  </style>\n",
              "\n",
              "      <script>\n",
              "        const buttonEl =\n",
              "          document.querySelector('#df-3e69f4cf-0181-4f66-8263-492df1493bb4 button.colab-df-convert');\n",
              "        buttonEl.style.display =\n",
              "          google.colab.kernel.accessAllowed ? 'block' : 'none';\n",
              "\n",
              "        async function convertToInteractive(key) {\n",
              "          const element = document.querySelector('#df-3e69f4cf-0181-4f66-8263-492df1493bb4');\n",
              "          const dataTable =\n",
              "            await google.colab.kernel.invokeFunction('convertToInteractive',\n",
              "                                                     [key], {});\n",
              "          if (!dataTable) return;\n",
              "\n",
              "          const docLinkHtml = 'Like what you see? Visit the ' +\n",
              "            '<a target=\"_blank\" href=https://colab.research.google.com/notebooks/data_table.ipynb>data table notebook</a>'\n",
              "            + ' to learn more about interactive tables.';\n",
              "          element.innerHTML = '';\n",
              "          dataTable['output_type'] = 'display_data';\n",
              "          await google.colab.output.renderOutput(dataTable, element);\n",
              "          const docLink = document.createElement('div');\n",
              "          docLink.innerHTML = docLinkHtml;\n",
              "          element.appendChild(docLink);\n",
              "        }\n",
              "      </script>\n",
              "    </div>\n",
              "  </div>\n",
              "  "
            ]
          },
          "metadata": {},
          "execution_count": 4
        }
      ]
    },
    {
      "cell_type": "markdown",
      "source": [
        "*Movielens Latest Small Data*'s $ratings$ has a timestamp column while *Movielens 100K Data*'s $ratings$ doesn't have that column "
      ],
      "metadata": {
        "id": "baojzuTNI4HD"
      }
    },
    {
      "cell_type": "code",
      "source": [
        "movies.head()"
      ],
      "metadata": {
        "colab": {
          "base_uri": "https://localhost:8080/",
          "height": 206
        },
        "id": "B06rD0v6IueX",
        "outputId": "d5ed80ee-c469-4563-a5a4-84623a0c317f"
      },
      "execution_count": 5,
      "outputs": [
        {
          "output_type": "execute_result",
          "data": {
            "text/plain": [
              "   itemid              title\n",
              "0       1   Toy Story (1995)\n",
              "1       2   GoldenEye (1995)\n",
              "2       3  Four Rooms (1995)\n",
              "3       4  Get Shorty (1995)\n",
              "4       5     Copycat (1995)"
            ],
            "text/html": [
              "\n",
              "  <div id=\"df-4dea4f51-573a-4d0f-818a-ba22eb9d6b57\">\n",
              "    <div class=\"colab-df-container\">\n",
              "      <div>\n",
              "<style scoped>\n",
              "    .dataframe tbody tr th:only-of-type {\n",
              "        vertical-align: middle;\n",
              "    }\n",
              "\n",
              "    .dataframe tbody tr th {\n",
              "        vertical-align: top;\n",
              "    }\n",
              "\n",
              "    .dataframe thead th {\n",
              "        text-align: right;\n",
              "    }\n",
              "</style>\n",
              "<table border=\"1\" class=\"dataframe\">\n",
              "  <thead>\n",
              "    <tr style=\"text-align: right;\">\n",
              "      <th></th>\n",
              "      <th>itemid</th>\n",
              "      <th>title</th>\n",
              "    </tr>\n",
              "  </thead>\n",
              "  <tbody>\n",
              "    <tr>\n",
              "      <th>0</th>\n",
              "      <td>1</td>\n",
              "      <td>Toy Story (1995)</td>\n",
              "    </tr>\n",
              "    <tr>\n",
              "      <th>1</th>\n",
              "      <td>2</td>\n",
              "      <td>GoldenEye (1995)</td>\n",
              "    </tr>\n",
              "    <tr>\n",
              "      <th>2</th>\n",
              "      <td>3</td>\n",
              "      <td>Four Rooms (1995)</td>\n",
              "    </tr>\n",
              "    <tr>\n",
              "      <th>3</th>\n",
              "      <td>4</td>\n",
              "      <td>Get Shorty (1995)</td>\n",
              "    </tr>\n",
              "    <tr>\n",
              "      <th>4</th>\n",
              "      <td>5</td>\n",
              "      <td>Copycat (1995)</td>\n",
              "    </tr>\n",
              "  </tbody>\n",
              "</table>\n",
              "</div>\n",
              "      <button class=\"colab-df-convert\" onclick=\"convertToInteractive('df-4dea4f51-573a-4d0f-818a-ba22eb9d6b57')\"\n",
              "              title=\"Convert this dataframe to an interactive table.\"\n",
              "              style=\"display:none;\">\n",
              "        \n",
              "  <svg xmlns=\"http://www.w3.org/2000/svg\" height=\"24px\"viewBox=\"0 0 24 24\"\n",
              "       width=\"24px\">\n",
              "    <path d=\"M0 0h24v24H0V0z\" fill=\"none\"/>\n",
              "    <path d=\"M18.56 5.44l.94 2.06.94-2.06 2.06-.94-2.06-.94-.94-2.06-.94 2.06-2.06.94zm-11 1L8.5 8.5l.94-2.06 2.06-.94-2.06-.94L8.5 2.5l-.94 2.06-2.06.94zm10 10l.94 2.06.94-2.06 2.06-.94-2.06-.94-.94-2.06-.94 2.06-2.06.94z\"/><path d=\"M17.41 7.96l-1.37-1.37c-.4-.4-.92-.59-1.43-.59-.52 0-1.04.2-1.43.59L10.3 9.45l-7.72 7.72c-.78.78-.78 2.05 0 2.83L4 21.41c.39.39.9.59 1.41.59.51 0 1.02-.2 1.41-.59l7.78-7.78 2.81-2.81c.8-.78.8-2.07 0-2.86zM5.41 20L4 18.59l7.72-7.72 1.47 1.35L5.41 20z\"/>\n",
              "  </svg>\n",
              "      </button>\n",
              "      \n",
              "  <style>\n",
              "    .colab-df-container {\n",
              "      display:flex;\n",
              "      flex-wrap:wrap;\n",
              "      gap: 12px;\n",
              "    }\n",
              "\n",
              "    .colab-df-convert {\n",
              "      background-color: #E8F0FE;\n",
              "      border: none;\n",
              "      border-radius: 50%;\n",
              "      cursor: pointer;\n",
              "      display: none;\n",
              "      fill: #1967D2;\n",
              "      height: 32px;\n",
              "      padding: 0 0 0 0;\n",
              "      width: 32px;\n",
              "    }\n",
              "\n",
              "    .colab-df-convert:hover {\n",
              "      background-color: #E2EBFA;\n",
              "      box-shadow: 0px 1px 2px rgba(60, 64, 67, 0.3), 0px 1px 3px 1px rgba(60, 64, 67, 0.15);\n",
              "      fill: #174EA6;\n",
              "    }\n",
              "\n",
              "    [theme=dark] .colab-df-convert {\n",
              "      background-color: #3B4455;\n",
              "      fill: #D2E3FC;\n",
              "    }\n",
              "\n",
              "    [theme=dark] .colab-df-convert:hover {\n",
              "      background-color: #434B5C;\n",
              "      box-shadow: 0px 1px 3px 1px rgba(0, 0, 0, 0.15);\n",
              "      filter: drop-shadow(0px 1px 2px rgba(0, 0, 0, 0.3));\n",
              "      fill: #FFFFFF;\n",
              "    }\n",
              "  </style>\n",
              "\n",
              "      <script>\n",
              "        const buttonEl =\n",
              "          document.querySelector('#df-4dea4f51-573a-4d0f-818a-ba22eb9d6b57 button.colab-df-convert');\n",
              "        buttonEl.style.display =\n",
              "          google.colab.kernel.accessAllowed ? 'block' : 'none';\n",
              "\n",
              "        async function convertToInteractive(key) {\n",
              "          const element = document.querySelector('#df-4dea4f51-573a-4d0f-818a-ba22eb9d6b57');\n",
              "          const dataTable =\n",
              "            await google.colab.kernel.invokeFunction('convertToInteractive',\n",
              "                                                     [key], {});\n",
              "          if (!dataTable) return;\n",
              "\n",
              "          const docLinkHtml = 'Like what you see? Visit the ' +\n",
              "            '<a target=\"_blank\" href=https://colab.research.google.com/notebooks/data_table.ipynb>data table notebook</a>'\n",
              "            + ' to learn more about interactive tables.';\n",
              "          element.innerHTML = '';\n",
              "          dataTable['output_type'] = 'display_data';\n",
              "          await google.colab.output.renderOutput(dataTable, element);\n",
              "          const docLink = document.createElement('div');\n",
              "          docLink.innerHTML = docLinkHtml;\n",
              "          element.appendChild(docLink);\n",
              "        }\n",
              "      </script>\n",
              "    </div>\n",
              "  </div>\n",
              "  "
            ]
          },
          "metadata": {},
          "execution_count": 5
        }
      ]
    },
    {
      "cell_type": "markdown",
      "source": [
        "*Movielens Latest Small Data*'s $movies$ has a genres column while *Movielens 100K Data*'s $movies$ doesn't have that column "
      ],
      "metadata": {
        "id": "tN2lQ6FWJVjW"
      }
    },
    {
      "cell_type": "markdown",
      "metadata": {
        "id": "GSwwi7G91nP2"
      },
      "source": [
        "### Encoding of *userids* and *itemids*"
      ]
    },
    {
      "cell_type": "markdown",
      "source": [
        "All *userid* and *itemid* in $ratings$ could have a non-consecutive sequence when ids are ordered, <br>\n",
        "For convenience at the construction of the matrix, encode each of those to a consecutive sequence when ids are ordered through LabelEncoder"
      ],
      "metadata": {
        "id": "mpfs17XojuVb"
      }
    },
    {
      "cell_type": "code",
      "execution_count": 6,
      "metadata": {
        "id": "tnEoC0Ss1nP2"
      },
      "outputs": [],
      "source": [
        "# Encode userids and itemids in ratings through LabelEncoder\n",
        "# uencoder -> LabelEncoder object of userids\n",
        "# iencoder -> LabelEncoder object of itemids\n",
        "ratings, uencoder, iencoder = ids_encoder(ratings)"
      ]
    },
    {
      "cell_type": "markdown",
      "metadata": {
        "id": "nTi6BT621nP2"
      },
      "source": [
        "Now that the initial configuration is done, let's implement the item-based collaborative filtering algorithm"
      ]
    },
    {
      "cell_type": "markdown",
      "source": [
        "Item-based collaborative filtering is still a part of memory-based collaborative filtering. <br>\n",
        "The user-based collaborative filtering has already been explained in the previous chapter, so now we'll take a look at the item-based collaborative filtering"
      ],
      "metadata": {
        "id": "4ABhnwN9oeOb"
      }
    },
    {
      "cell_type": "markdown",
      "metadata": {
        "id": "f_cuLBnt1nPv"
      },
      "source": [
        "# 2. Item-to-Item Collaborative Filtering"
      ]
    },
    {
      "cell_type": "markdown",
      "metadata": {
        "id": "Ati6MOTk1nPw"
      },
      "source": [
        "## Idea\n",
        "Let $u$ be the active user and $i$ the referenced item\n",
        "1. If $u$ liked items similar to $i$, he will probably like item $i$.\n",
        "2. If he hated or disliked items similar to $i$, he will also hate item $i$.\n",
        "\n",
        "The idea is therefore to look at how an active user $u$ rated items similar to $i$ to know how he would have rated item $i$"
      ]
    },
    {
      "cell_type": "markdown",
      "metadata": {
        "id": "B6u8JJgh1nPx"
      },
      "source": [
        "## Algorithm : item-to-item collaborative filtering\n",
        "\n",
        "The algorithm that defines item-based CF is described as follow <a href=\"http://citeseerx.ist.psu.edu/viewdoc/download?doi=10.1.1.449.1171&rep=rep1&type=pdf\">(B. Sarwar et al. 2001)</a><a href=\"https://citeseerx.ist.psu.edu/viewdoc/download?doi=10.1.1.554.1671&rep=rep1&type=pdf\">(George Karypis 2001)</a> :\n",
        "\n",
        "<ol>\n",
        "    <li>\n",
        "        First identify the $k$ most similar items for each item in the catalogue and record the corresponding similarities. To compute similarity between two items we can user the <i>Adjusted Cosine Similarity</i> that has proven to be more efficient than the basic <i>Cosine similarity measure</i> used for user-based collaborative as described in <a href=\"http://citeseerx.ist.psu.edu/viewdoc/download?doi=10.1.1.449.1171&rep=rep1&type=pdf\">(B. Sarwar et al. 2001)</a>. The Adjusted Cosine distance between two items $i$ and $j$ is computed as follow\n",
        "\n",
        "\\begin{equation}\n",
        " w_{i,j}= \\frac{\\sum_{u\\in U}(r_{u,i}-\\bar{r}_u)(r_{u,j}-\\bar{r}_u)}{\\sqrt{\\sum_{u\\in U} (r_{u,i}-\\bar{r}_u)^2}\\sqrt{\\sum_{u\\in U} (r_{u,j}-\\bar{r}_u)^2}}\n",
        "\\end{equation}\n",
        "\n",
        "$w_{i,j}$ is the degree of similarity between items $i$ and $j$. This term is computed for all users $u\\in U$, where $U$ is the set of users that rated both items $i$ and $j$. Let's denote by $S^{(i)}$ the set of the $k$ most similar items to item $i$.\n",
        "    </li>    \n",
        "    <li> To produce top-N recommendations for a given user $u$ that has already purchased a set $I_u$ of items, do the following :\n",
        "<ul>\n",
        "    <li> Find the set $C$ of candidate items by taking the union of all $S^{(i)}, \\forall i\\in I_u$ and removing each of the items in the set $I_u$.\n",
        "\\begin{equation}\n",
        " C = \\bigcup_{i\\in I_u}\\{S^{(i)}\\}\\smallsetminus I_u\n",
        "\\end{equation}\n",
        "    </li>\n",
        "    <li>\n",
        "        $\\forall c\\in C$, compute similarity between c and the set $I_u$ as follows:\n",
        "\\begin{equation}\n",
        " w_{c,I_u} = \\sum_{i\\in I_u} w_{c,i}, \\forall c \\in C\n",
        "\\end{equation}\n",
        "    </li>\n",
        "    <li>\n",
        "        Sort items in $C$ in decreasing order of $w_{c,I_u}, \\forall c \\in C$, and return the first $N$ items as the Top-N recommendation list.\n",
        "    </li>\n",
        "</ul>    \n",
        "    </li>\n",
        "</ol>"
      ]
    },
    {
      "cell_type": "markdown",
      "metadata": {
        "id": "h2fElpAg1nPy"
      },
      "source": [
        "Before returning the first $N$ items as top-N recommendation list, we can make predictions about what user $u$ would have given to each items in the top-N recommendation list, rearrange the list in descending order of predicted ratings and return the rearranged list as the final recommendation list. Rating prediction for item-based CF is given by the following formular <a href=\"http://citeseerx.ist.psu.edu/viewdoc/download?doi=10.1.1.449.1171&rep=rep1&type=pdf\">(B. Sarwar et al. 2001)</a>:\n",
        "\n",
        "\\begin{equation}\n",
        " \\hat{r}_{u,i}=\\frac{\\sum_{i\\in S^{(i)}}r_{u,j}\\cdot w_{i,j}}{\\sum_{j\\in S^{(i)}}|w_{i,j}|}\n",
        "\\end{equation}"
      ]
    },
    {
      "cell_type": "markdown",
      "metadata": {
        "id": "57c8ZzpK1nP3"
      },
      "source": [
        "### Step 1. Find similarities for each of the items"
      ]
    },
    {
      "cell_type": "markdown",
      "metadata": {
        "id": "gMcOrm0Y1nP3"
      },
      "source": [
        "To compute similarity between two items $i$ and $j$, we need to :\n",
        "\n",
        "1. Find all users who rated both of them,\n",
        "2. Normalize their ratings on items $i$ and $j$\n",
        "3. Apply the cosine metric to the normalized ratings to compute similarity between $i$ and $j$"
      ]
    },
    {
      "cell_type": "markdown",
      "metadata": {
        "id": "2gheIoH31nP3"
      },
      "source": [
        "Function ```normalize()``` process the rating dataframe to normalize ratings of all users"
      ]
    },
    {
      "cell_type": "code",
      "execution_count": 7,
      "metadata": {
        "id": "GcSKY_q11nP3"
      },
      "outputs": [],
      "source": [
        "def normalize():\n",
        "    # compute mean rating for each user\n",
        "    mean = ratings.groupby(by='userid', as_index=False)['rating'].mean()\n",
        "    norm_ratings = pd.merge(ratings, mean, suffixes=('','_mean'), on='userid')\n",
        "    \n",
        "    # normalize each rating by substracting the mean rating of the corresponding user\n",
        "    norm_ratings['norm_rating'] = norm_ratings['rating'] - norm_ratings['rating_mean']\n",
        "    return mean.to_numpy()[:, 1], norm_ratings"
      ]
    },
    {
      "cell_type": "code",
      "execution_count": 8,
      "metadata": {
        "colab": {
          "base_uri": "https://localhost:8080/",
          "height": 206
        },
        "id": "qN_Tao7T1nP4",
        "outputId": "ae62e86c-c441-452f-ec2f-03c488c0d330"
      },
      "outputs": [
        {
          "output_type": "execute_result",
          "data": {
            "text/plain": [
              "   userid  itemid  rating  rating_mean  norm_rating\n",
              "0       0       0       5     3.610294     1.389706\n",
              "1       0       1       3     3.610294    -0.610294\n",
              "2       0       2       4     3.610294     0.389706\n",
              "3       0       3       3     3.610294    -0.610294\n",
              "4       0       4       3     3.610294    -0.610294"
            ],
            "text/html": [
              "\n",
              "  <div id=\"df-4e198ef9-d448-4381-929b-64e87074e570\">\n",
              "    <div class=\"colab-df-container\">\n",
              "      <div>\n",
              "<style scoped>\n",
              "    .dataframe tbody tr th:only-of-type {\n",
              "        vertical-align: middle;\n",
              "    }\n",
              "\n",
              "    .dataframe tbody tr th {\n",
              "        vertical-align: top;\n",
              "    }\n",
              "\n",
              "    .dataframe thead th {\n",
              "        text-align: right;\n",
              "    }\n",
              "</style>\n",
              "<table border=\"1\" class=\"dataframe\">\n",
              "  <thead>\n",
              "    <tr style=\"text-align: right;\">\n",
              "      <th></th>\n",
              "      <th>userid</th>\n",
              "      <th>itemid</th>\n",
              "      <th>rating</th>\n",
              "      <th>rating_mean</th>\n",
              "      <th>norm_rating</th>\n",
              "    </tr>\n",
              "  </thead>\n",
              "  <tbody>\n",
              "    <tr>\n",
              "      <th>0</th>\n",
              "      <td>0</td>\n",
              "      <td>0</td>\n",
              "      <td>5</td>\n",
              "      <td>3.610294</td>\n",
              "      <td>1.389706</td>\n",
              "    </tr>\n",
              "    <tr>\n",
              "      <th>1</th>\n",
              "      <td>0</td>\n",
              "      <td>1</td>\n",
              "      <td>3</td>\n",
              "      <td>3.610294</td>\n",
              "      <td>-0.610294</td>\n",
              "    </tr>\n",
              "    <tr>\n",
              "      <th>2</th>\n",
              "      <td>0</td>\n",
              "      <td>2</td>\n",
              "      <td>4</td>\n",
              "      <td>3.610294</td>\n",
              "      <td>0.389706</td>\n",
              "    </tr>\n",
              "    <tr>\n",
              "      <th>3</th>\n",
              "      <td>0</td>\n",
              "      <td>3</td>\n",
              "      <td>3</td>\n",
              "      <td>3.610294</td>\n",
              "      <td>-0.610294</td>\n",
              "    </tr>\n",
              "    <tr>\n",
              "      <th>4</th>\n",
              "      <td>0</td>\n",
              "      <td>4</td>\n",
              "      <td>3</td>\n",
              "      <td>3.610294</td>\n",
              "      <td>-0.610294</td>\n",
              "    </tr>\n",
              "  </tbody>\n",
              "</table>\n",
              "</div>\n",
              "      <button class=\"colab-df-convert\" onclick=\"convertToInteractive('df-4e198ef9-d448-4381-929b-64e87074e570')\"\n",
              "              title=\"Convert this dataframe to an interactive table.\"\n",
              "              style=\"display:none;\">\n",
              "        \n",
              "  <svg xmlns=\"http://www.w3.org/2000/svg\" height=\"24px\"viewBox=\"0 0 24 24\"\n",
              "       width=\"24px\">\n",
              "    <path d=\"M0 0h24v24H0V0z\" fill=\"none\"/>\n",
              "    <path d=\"M18.56 5.44l.94 2.06.94-2.06 2.06-.94-2.06-.94-.94-2.06-.94 2.06-2.06.94zm-11 1L8.5 8.5l.94-2.06 2.06-.94-2.06-.94L8.5 2.5l-.94 2.06-2.06.94zm10 10l.94 2.06.94-2.06 2.06-.94-2.06-.94-.94-2.06-.94 2.06-2.06.94z\"/><path d=\"M17.41 7.96l-1.37-1.37c-.4-.4-.92-.59-1.43-.59-.52 0-1.04.2-1.43.59L10.3 9.45l-7.72 7.72c-.78.78-.78 2.05 0 2.83L4 21.41c.39.39.9.59 1.41.59.51 0 1.02-.2 1.41-.59l7.78-7.78 2.81-2.81c.8-.78.8-2.07 0-2.86zM5.41 20L4 18.59l7.72-7.72 1.47 1.35L5.41 20z\"/>\n",
              "  </svg>\n",
              "      </button>\n",
              "      \n",
              "  <style>\n",
              "    .colab-df-container {\n",
              "      display:flex;\n",
              "      flex-wrap:wrap;\n",
              "      gap: 12px;\n",
              "    }\n",
              "\n",
              "    .colab-df-convert {\n",
              "      background-color: #E8F0FE;\n",
              "      border: none;\n",
              "      border-radius: 50%;\n",
              "      cursor: pointer;\n",
              "      display: none;\n",
              "      fill: #1967D2;\n",
              "      height: 32px;\n",
              "      padding: 0 0 0 0;\n",
              "      width: 32px;\n",
              "    }\n",
              "\n",
              "    .colab-df-convert:hover {\n",
              "      background-color: #E2EBFA;\n",
              "      box-shadow: 0px 1px 2px rgba(60, 64, 67, 0.3), 0px 1px 3px 1px rgba(60, 64, 67, 0.15);\n",
              "      fill: #174EA6;\n",
              "    }\n",
              "\n",
              "    [theme=dark] .colab-df-convert {\n",
              "      background-color: #3B4455;\n",
              "      fill: #D2E3FC;\n",
              "    }\n",
              "\n",
              "    [theme=dark] .colab-df-convert:hover {\n",
              "      background-color: #434B5C;\n",
              "      box-shadow: 0px 1px 3px 1px rgba(0, 0, 0, 0.15);\n",
              "      filter: drop-shadow(0px 1px 2px rgba(0, 0, 0, 0.3));\n",
              "      fill: #FFFFFF;\n",
              "    }\n",
              "  </style>\n",
              "\n",
              "      <script>\n",
              "        const buttonEl =\n",
              "          document.querySelector('#df-4e198ef9-d448-4381-929b-64e87074e570 button.colab-df-convert');\n",
              "        buttonEl.style.display =\n",
              "          google.colab.kernel.accessAllowed ? 'block' : 'none';\n",
              "\n",
              "        async function convertToInteractive(key) {\n",
              "          const element = document.querySelector('#df-4e198ef9-d448-4381-929b-64e87074e570');\n",
              "          const dataTable =\n",
              "            await google.colab.kernel.invokeFunction('convertToInteractive',\n",
              "                                                     [key], {});\n",
              "          if (!dataTable) return;\n",
              "\n",
              "          const docLinkHtml = 'Like what you see? Visit the ' +\n",
              "            '<a target=\"_blank\" href=https://colab.research.google.com/notebooks/data_table.ipynb>data table notebook</a>'\n",
              "            + ' to learn more about interactive tables.';\n",
              "          element.innerHTML = '';\n",
              "          dataTable['output_type'] = 'display_data';\n",
              "          await google.colab.output.renderOutput(dataTable, element);\n",
              "          const docLink = document.createElement('div');\n",
              "          docLink.innerHTML = docLinkHtml;\n",
              "          element.appendChild(docLink);\n",
              "        }\n",
              "      </script>\n",
              "    </div>\n",
              "  </div>\n",
              "  "
            ]
          },
          "metadata": {},
          "execution_count": 8
        }
      ],
      "source": [
        "mean, norm_ratings = normalize()\n",
        "np_ratings = norm_ratings.to_numpy()\n",
        "norm_ratings.head()"
      ]
    },
    {
      "cell_type": "markdown",
      "metadata": {
        "id": "ehGP-hv_1nP4"
      },
      "source": [
        "Now that each rating has been normalized, we can represent each item by a vector of its normalized ratings"
      ]
    },
    {
      "cell_type": "code",
      "execution_count": 9,
      "metadata": {
        "id": "bn81jcct1nP5"
      },
      "outputs": [],
      "source": [
        "def item_representation(ratings):    \n",
        "    return csr_matrix(\n",
        "        pd.crosstab(ratings.itemid, ratings.userid, ratings.norm_rating, aggfunc=sum).fillna(0).values\n",
        "    )"
      ]
    },
    {
      "cell_type": "code",
      "execution_count": 10,
      "metadata": {
        "id": "oI8AdUnR1nP5"
      },
      "outputs": [],
      "source": [
        "R = item_representation(norm_ratings)"
      ]
    },
    {
      "cell_type": "code",
      "source": [
        "display(R)\n",
        "print('Total users: {}'.format(len(ratings['userid'].unique())))\n",
        "print('Total movies: {}'.format(len(ratings['itemid'].unique())))"
      ],
      "metadata": {
        "colab": {
          "base_uri": "https://localhost:8080/",
          "height": 91
        },
        "id": "DMVYsF5LpSsL",
        "outputId": "b13c8081-86b5-4549-cdff-238002ae18a3"
      },
      "execution_count": 11,
      "outputs": [
        {
          "output_type": "display_data",
          "data": {
            "text/plain": [
              "<1682x943 sparse matrix of type '<class 'numpy.float64'>'\n",
              "\twith 99650 stored elements in Compressed Sparse Row format>"
            ]
          },
          "metadata": {}
        },
        {
          "output_type": "stream",
          "name": "stdout",
          "text": [
            "Total users: 943\n",
            "Total movies: 1682\n"
          ]
        }
      ]
    },
    {
      "cell_type": "markdown",
      "source": [
        "1682 rows represents the movies through movieid, while 943 columns represents the users through userid "
      ],
      "metadata": {
        "id": "Cm-qP9Otp1cZ"
      }
    },
    {
      "cell_type": "markdown",
      "metadata": {
        "id": "nAphzcjt1nP5"
      },
      "source": [
        "Let's build and fit our $k$-NN model using sklearn"
      ]
    },
    {
      "cell_type": "code",
      "execution_count": 12,
      "metadata": {
        "id": "j9_tcXKW1nP5"
      },
      "outputs": [],
      "source": [
        "def create_model(rating_matrix, k=20, metric=\"cosine\"):\n",
        "    \"\"\"\n",
        "    :param R : numpy array of item representations\n",
        "    :param k : number of nearest neighbors to return    \n",
        "    :return model : our knn model\n",
        "    \"\"\"    \n",
        "    model = NearestNeighbors(metric=metric, n_neighbors=k+1, algorithm='brute')\n",
        "    model.fit(rating_matrix)    \n",
        "    return model"
      ]
    },
    {
      "cell_type": "markdown",
      "metadata": {
        "id": "ejqN7Tcl1nP5"
      },
      "source": [
        "#### Similarities computation"
      ]
    },
    {
      "cell_type": "markdown",
      "metadata": {
        "id": "flZPo1Wd1nP6"
      },
      "source": [
        "Similarities between items can be measured with the *Cosine* or *Eucliedian* distance. The ***NearestNeighbors*** class from the sklearn library simplifies the computation of neighbors. We just need to specify the metric (e.g. cosine or euclidian) that will be used to compute similarities.\n",
        "\n",
        "The above method, ```create_model```, creates the kNN model and the following ```nearest_neighbors``` method uses the created model to kNN items. It returns nearest neighbors as well as similarities measures for each items.\n",
        "\n",
        "```nearest_neighbors``` returns :\n",
        "- ```similarities``` : numpy array of shape $(n,k)$\n",
        "- ```neighbors``` : numpy array of shape $(n,k)$\n",
        "\n",
        "where $n$ is the total number of items and $k$ is the number of neighbors to return, specified when creating the kNN model."
      ]
    },
    {
      "cell_type": "code",
      "execution_count": 13,
      "metadata": {
        "id": "2O2SFN_X1nP6"
      },
      "outputs": [],
      "source": [
        "def nearest_neighbors(rating_matrix, model):\n",
        "    \"\"\"\n",
        "    compute the top n similar items for each item.    \n",
        "    :param rating_matrix : items representations\n",
        "    :param model : nearest neighbors model    \n",
        "    :return similarities, neighbors\n",
        "    \"\"\"    \n",
        "    similarities, neighbors = model.kneighbors(rating_matrix)    \n",
        "    return similarities[:,1:], neighbors[:,1:]"
      ]
    },
    {
      "cell_type": "markdown",
      "metadata": {
        "id": "bgyNXvxE1nP6"
      },
      "source": [
        "#### Adjusted Cosine Similarity\n",
        "In the context of item-based collaborative filtering, the adjusted cosine similarity has shown to be more efficient that the cosine or the euclidian distance. Here is the formula to compute the adjusted cosine weight between two items $i$ and $j$ :"
      ]
    },
    {
      "cell_type": "markdown",
      "metadata": {
        "id": "qRtO6x8j1nP6"
      },
      "source": [
        "\\begin{equation}\n",
        " w_{i,j}= \\frac{\\sum_{u\\in U}(r_{u,i}-\\bar{r}_u)(r_{u,j}-\\bar{r}_u)}{\\sqrt{\\sum_{u\\in U} (r_{u,i}-\\bar{r}_u)^2}\\sqrt{\\sum_{u\\in U} (r_{u,j}-\\bar{r}_u)^2}}.\n",
        "\\end{equation}"
      ]
    },
    {
      "cell_type": "markdown",
      "metadata": {
        "id": "riTL5Gt31nP6"
      },
      "source": [
        "This term is computed for all users $u\\in U$, where $U$ is the set of users that rated both items $i$ and $j$. Since the *sklearn* library do not directly implement the adjusted cosine similarity metric, we will implement it with the method ```adjusted_cosine```, with some helper function :\n",
        "\n",
        "- ```save_similarities``` : since the computation of the adjusted cosine similarity is time consuming, around 5 mins for the ml100k dataset, we use this method to save the computed similarities for lated usage.\n",
        "- ```load_similarities``` : load the saved similarities\n",
        "- ```cosine``` : cosine distance between two vectors."
      ]
    },
    {
      "cell_type": "code",
      "execution_count": 14,
      "metadata": {
        "id": "scw0HDuf1nP7"
      },
      "outputs": [],
      "source": [
        "def save_similarities(similarities, neighbors, dataset_name):    \n",
        "    base_dir = 'recsys/weights/item2item'\n",
        "    save_dir = os.path.join(base_dir, dataset_name)\n",
        "    os.makedirs(save_dir, exist_ok=True)    \n",
        "    similarities_file_name = os.path.join(save_dir, 'similarities.npy')\n",
        "    neighbors_file_name = os.path.join(save_dir, 'neighbors.npy')    \n",
        "    try:\n",
        "        np.save(similarities_file_name, similarities)\n",
        "        np.save(neighbors_file_name, neighbors)        \n",
        "    except ValueError as error:\n",
        "        print(f\"An error occured when saving similarities, due to : \\n ValueError : {error}\")\n",
        "\n",
        "        \n",
        "def load_similarities(dataset_name, k=20):\n",
        "    base_dir = 'recsys/weights/item2item'\n",
        "    save_dir = os.path.join(base_dir, dataset_name)    \n",
        "    similiraties_file = os.path.join(save_dir, 'similarities.npy')\n",
        "    neighbors_file = os.path.join(save_dir, 'neighbors.npy')    \n",
        "    similarities = np.load(similiraties_file)\n",
        "    neighbors = np.load(neighbors_file)    \n",
        "    return similarities[:,:k], neighbors[:,:k]\n",
        "\n",
        "\n",
        "def cosine(x, y):\n",
        "    return np.dot(x, y) / (np.linalg.norm(x) * np.linalg.norm(y))\n",
        "\n",
        "\n",
        "def adjusted_cosine(np_ratings, nb_items, dataset_name):\n",
        "    similarities = np.zeros(shape=(nb_items, nb_items))\n",
        "    similarities.fill(-1)\n",
        "    \n",
        "    def _progress(count):\n",
        "        sys.stdout.write('\\rComputing similarities. Progress status : %.1f%%' % (float(count / nb_items)*100.0))\n",
        "        sys.stdout.flush()\n",
        "        \n",
        "    items = sorted(ratings.itemid.unique())    \n",
        "    for i in items[:-1]:\n",
        "        for j in items[i+1:]:            \n",
        "            scores = np_ratings[(np_ratings[:, 1] == i) | (np_ratings[:, 1] == j), :]\n",
        "            vals, count = np.unique(scores[:,0], return_counts = True)\n",
        "            scores = scores[np.isin(scores[:,0], vals[count > 1]),:]\n",
        "\n",
        "            if scores.shape[0] > 2:\n",
        "                x = scores[scores[:, 1].astype('int') == i, 4]\n",
        "                y = scores[scores[:, 1].astype('int') == j, 4]\n",
        "                w = cosine(x, y)\n",
        "\n",
        "                similarities[i, j] = w\n",
        "                similarities[j, i] = w\n",
        "        _progress(i)\n",
        "    _progress(nb_items)\n",
        "    \n",
        "    # get neighbors by their neighbors in decreasing order of similarities\n",
        "    neighbors = np.flip(np.argsort(similarities), axis=1)\n",
        "    \n",
        "    # sort similarities in decreasing order\n",
        "    similarities = np.flip(np.sort(similarities), axis=1)\n",
        "    \n",
        "    # save similarities to disk\n",
        "    save_similarities(similarities, neighbors, dataset_name=dataset_name) \n",
        "    \n",
        "    return similarities, neighbors"
      ]
    },
    {
      "cell_type": "markdown",
      "metadata": {
        "id": "zrU447wt1nP7"
      },
      "source": [
        "Now, we can call the ```adjusted_cosine``` function to compute and save items similarities and neighbors based on the adjusted cosine metric. "
      ]
    },
    {
      "cell_type": "markdown",
      "source": [
        "Run these lines to compute the adjusted cosine between all items.\n",
        "```\n",
        "nb_items = ratings.itemid.nunique()\n",
        "similarities, neighbors = adjusted_cosine(np_ratings, nb_items=nb_items, dataset_name='ml100k')\n",
        "```\n",
        "As the precomputed version is already available in *recsys*, we don't have to run those lines again. Just load the precomputed version instead for further use."
      ],
      "metadata": {
        "id": "N7Ve-aegta2m"
      }
    },
    {
      "cell_type": "markdown",
      "metadata": {
        "id": "U_5IdhRX1nP8"
      },
      "source": [
        "Among the following similarity metrics, choose the one you wish to use for the item-based collaborative filtering :\n",
        "\n",
        "- **euclidian** or **cosine** : choose *euclidian* or *cosine* to initialize the similarity model through the sklearn library.\n",
        "- **adjusted_cosine** : choose the *adjusted_cosine* metric to load similarities computed and saved through the ```adjusted_cosine``` function.\n",
        "\n",
        "In this case, we will use the *adjusted_cosine* metric."
      ]
    },
    {
      "cell_type": "code",
      "execution_count": 15,
      "metadata": {
        "id": "8L7FRRhP1nP8"
      },
      "outputs": [],
      "source": [
        "metric = 'adjusted_cosine' # [cosine, euclidean, adjusted_cosine]\n",
        "\n",
        "if metric == 'adjusted_cosine':\n",
        "    similarities, neighbors = load_similarities('ml100k')\n",
        "else:\n",
        "    model = create_model(R, k=21, metric=metric)\n",
        "    similarities, neighbors = nearest_neighbors(R, model)"
      ]
    },
    {
      "cell_type": "code",
      "execution_count": 16,
      "metadata": {
        "colab": {
          "base_uri": "https://localhost:8080/"
        },
        "id": "fNpaT-XH1nP8",
        "outputId": "854bcbed-5998-43f8-f603-456519945d2c"
      },
      "outputs": [
        {
          "output_type": "stream",
          "name": "stdout",
          "text": [
            "neighbors shape :  (1682, 20)\n",
            "similarities shape :  (1682, 20)\n"
          ]
        }
      ],
      "source": [
        "print('neighbors shape : ', neighbors.shape)\n",
        "print('similarities shape : ', similarities.shape)"
      ]
    },
    {
      "cell_type": "markdown",
      "metadata": {
        "id": "b2kxWuKu1nP8"
      },
      "source": [
        "```neighbors``` and ```similarities``` are numpy array, were each entries are list of 20 neighbors with their corresponding similarities"
      ]
    },
    {
      "cell_type": "markdown",
      "metadata": {
        "id": "WOffCmgv1nP8"
      },
      "source": [
        "### Step 2. Top-N recommendation for a given user"
      ]
    },
    {
      "cell_type": "markdown",
      "metadata": {
        "id": "btvuX5ly1nP8"
      },
      "source": [
        "\n",
        "For a user $u$ who has already rated a set of items $I_u$, give top-N movies recommendation"
      ]
    },
    {
      "cell_type": "markdown",
      "metadata": {
        "id": "9s85gzN01nP9"
      },
      "source": [
        "#### 2.1. Finding candidate items\n",
        "\n",
        "To find candidate items for user $u$, we need to :\n",
        "\n",
        "1. Find the set $I_u$ of items already rated by user $u$,\n",
        "2. Take the union of similar items as $C$ for all items in $I_u$\n",
        "3. Exclude from the set $C$ all items in $I_u$, to avoid recommend to a user items he has already purchased.\n",
        "\n",
        "These are done in function ```candidate_items()```"
      ]
    },
    {
      "cell_type": "code",
      "execution_count": 17,
      "metadata": {
        "id": "0-4ozCJA1nP9"
      },
      "outputs": [],
      "source": [
        "def candidate_items(userid):\n",
        "    \"\"\"\n",
        "    :param userid : user id for which we wish to find candidate items    \n",
        "    :return : I_u, candidates\n",
        "    \"\"\"\n",
        "    \n",
        "    # 1. Finding the set I_u of items already rated by user userid\n",
        "    I_u = np_ratings[np_ratings[:, 0] == userid]\n",
        "    I_u = I_u[:, 1].astype('int')\n",
        "    \n",
        "    # 2. Taking the union of similar items for all items in I_u to form the set of candidate items\n",
        "    c = set()\n",
        "        \n",
        "    for iid in I_u:    \n",
        "        # add the neighbors of item iid in the set of candidate items\n",
        "        c.update(neighbors[iid])\n",
        "        \n",
        "    c = list(c)\n",
        "    # 3. exclude from the set C all items in I_u.\n",
        "    candidates = np.setdiff1d(c, I_u, assume_unique=True)\n",
        "    \n",
        "    return I_u, candidates"
      ]
    },
    {
      "cell_type": "code",
      "execution_count": 18,
      "metadata": {
        "id": "5zO3DzLp1nP9"
      },
      "outputs": [],
      "source": [
        "#Take a user of testing later\n",
        "test_user = uencoder.transform([1])[0]\n",
        "#Find items purchased and candidates items for that user\n",
        "i_u, u_candidates = candidate_items(test_user)"
      ]
    },
    {
      "cell_type": "code",
      "execution_count": 19,
      "metadata": {
        "colab": {
          "base_uri": "https://localhost:8080/"
        },
        "id": "V9Jy8y-K1nP9",
        "outputId": "b4c11e88-9a47-4592-b566-1ec49e57300d"
      },
      "outputs": [
        {
          "output_type": "stream",
          "name": "stdout",
          "text": [
            "number of items purchased by user 1 :  272\n",
            "number of candidate items for user 1 :  893\n"
          ]
        }
      ],
      "source": [
        "print('number of items purchased by user 1 : ', len(i_u))\n",
        "print('number of candidate items for user 1 : ', len(u_candidates))"
      ]
    },
    {
      "cell_type": "markdown",
      "metadata": {
        "id": "c1-sDbkg1nP9"
      },
      "source": [
        "#### 2.2. Find similarity between each candidate item and the set $I_u$"
      ]
    },
    {
      "cell_type": "code",
      "execution_count": 20,
      "metadata": {
        "id": "VsPcCSVx1nP-"
      },
      "outputs": [],
      "source": [
        "def similarity_with_Iu(c, I_u):\n",
        "    \"\"\"\n",
        "    compute similarity between an item c and a set of items I_u. For each item i in I_u, get similarity between \n",
        "    i and c, if c exists in the set of items similar to itemid.    \n",
        "    :param c : itemid of a candidate item\n",
        "    :param I_u : set of items already purchased by a given user    \n",
        "    :return w : similarity between c and I_u\n",
        "    \"\"\"\n",
        "    w = 0    \n",
        "    for iid in I_u :        \n",
        "        # get similarity between itemid and c, if c is one of the k nearest neighbors of itemid\n",
        "        if c in neighbors[iid] :\n",
        "            w = w + similarities[iid, neighbors[iid] == c][0]    \n",
        "    return w"
      ]
    },
    {
      "cell_type": "markdown",
      "metadata": {
        "id": "T-cDX8cG1nP-"
      },
      "source": [
        "#### 2.3. Rank candidate items according to their similarities to $I_u$"
      ]
    },
    {
      "cell_type": "code",
      "execution_count": 21,
      "metadata": {
        "id": "s-yS6fce1nP-"
      },
      "outputs": [],
      "source": [
        "def rank_candidates(candidates, I_u):\n",
        "    \"\"\"\n",
        "    rank candidate items according to their similarities with i_u    \n",
        "    :param candidates : list of candidate items\n",
        "    :param I_u : list of items purchased by the user    \n",
        "    :return ranked_candidates : dataframe of candidate items, ranked in descending order of similarities with I_u\n",
        "    \"\"\"\n",
        "    \n",
        "    # list of candidate items mapped to their corresponding similarities to I_u\n",
        "    sims = [similarity_with_Iu(c, I_u) for c in candidates]\n",
        "    candidates = iencoder.inverse_transform(candidates)    \n",
        "    mapping = list(zip(candidates, sims))\n",
        "    \n",
        "    ranked_candidates = sorted(mapping, key=lambda couple:couple[1], reverse=True)    \n",
        "    return ranked_candidates"
      ]
    },
    {
      "cell_type": "markdown",
      "metadata": {
        "id": "6BVeLXVe1nP-"
      },
      "source": [
        "####2.4. Putting all together"
      ]
    },
    {
      "cell_type": "markdown",
      "metadata": {
        "id": "T249mZyH1nP-"
      },
      "source": [
        "Now that we defined all functions necessary to build our item to item top-N recommendation, let's define function ```topn_recommendation()``` that makes top-$N$ recommendations for a given user "
      ]
    },
    {
      "cell_type": "code",
      "execution_count": 22,
      "metadata": {
        "id": "C-9GCkOA1nP-"
      },
      "outputs": [],
      "source": [
        "def topn_recommendation(userid, N=30):\n",
        "    \"\"\"\n",
        "    Produce top-N recommendation for a given user    \n",
        "    :param userid : user for which we produce top-N recommendation\n",
        "    :param n : length of the top-N recommendation list    \n",
        "    :return topn\n",
        "    \"\"\"\n",
        "    # find candidate items\n",
        "    I_u, candidates = candidate_items(userid)\n",
        "    \n",
        "    # rank candidate items according to their similarities with I_u\n",
        "    ranked_candidates = rank_candidates(candidates, I_u)\n",
        "    \n",
        "    # get the first N row of ranked_candidates to build the top N recommendation list\n",
        "    topn = pd.DataFrame(ranked_candidates[:N], columns=['itemid','similarity_with_Iu'])    \n",
        "    topn = pd.merge(topn, movies, on='itemid', how='inner')    \n",
        "    return topn"
      ]
    },
    {
      "cell_type": "code",
      "execution_count": 23,
      "metadata": {
        "colab": {
          "base_uri": "https://localhost:8080/",
          "height": 990
        },
        "id": "84P4RCQN1nP_",
        "outputId": "e405061c-27f8-4653-c319-26691a219c29"
      },
      "outputs": [
        {
          "output_type": "execute_result",
          "data": {
            "text/plain": [
              "    itemid  similarity_with_Iu  \\\n",
              "0     1356           52.867173   \n",
              "1     1189           50.362199   \n",
              "2     1516           31.133267   \n",
              "3     1550           31.031738   \n",
              "4     1554           27.364494   \n",
              "5     1600           27.287712   \n",
              "6     1223           26.631850   \n",
              "7     1388           26.624397   \n",
              "8      766           26.590175   \n",
              "9      691           26.461802   \n",
              "10    1378           25.787842   \n",
              "11    1664           25.327445   \n",
              "12    1261           24.785660   \n",
              "13    1123           24.524028   \n",
              "14    1538           24.492453   \n",
              "15    1485           24.345312   \n",
              "16    1450           24.262120   \n",
              "17     909           23.357301   \n",
              "18     359           22.973658   \n",
              "19    1369           22.710078   \n",
              "20    1506           22.325504   \n",
              "21    1537           22.061914   \n",
              "22    1474           21.877034   \n",
              "23    1467           21.861203   \n",
              "24    1255           21.750924   \n",
              "25    1499           21.529748   \n",
              "26    1466           21.063269   \n",
              "27    1448           20.846909   \n",
              "28     927           20.730153   \n",
              "29    1375           20.627152   \n",
              "\n",
              "                                                title  \n",
              "0                               Ed's Next Move (1996)  \n",
              "1                                  Prefontaine (1997)  \n",
              "2                            Wedding Gift, The (1994)  \n",
              "3                   Destiny Turns on the Radio (1995)  \n",
              "4                                 Safe Passage (1994)  \n",
              "5                                 Guantanamera (1994)  \n",
              "6                             King of the Hill (1993)  \n",
              "7                                       Gabbeh (1996)  \n",
              "8                              Man of the Year (1995)  \n",
              "9                                    Dark City (1998)  \n",
              "10                              Rhyme & Reason (1997)  \n",
              "11                     8 Heads in a Duffel Bag (1997)  \n",
              "12                     Run of the Country, The (1995)  \n",
              "13                  Last Time I Saw Paris, The (1954)  \n",
              "14                                 All Over Me (1997)  \n",
              "15                         Colonel Chabert, Le (1994)  \n",
              "16                             Golden Earrings (1947)  \n",
              "17                            Dangerous Beauty (1998)  \n",
              "18                             Assignment, The (1997)  \n",
              "19  Forbidden Christ, The (Cristo proibito, Il) (1...  \n",
              "20                     Nelly & Monsieur Arnaud (1995)  \n",
              "21                                        Cosi (1996)  \n",
              "22                          Nina Takes a Lover (1994)  \n",
              "23               Saint of Fort Washington, The (1993)  \n",
              "24                              Broken English (1996)  \n",
              "25                              Grosse Fatigue (1994)  \n",
              "26                           Margaret's Museum (1995)  \n",
              "27                          My Favorite Season (1993)  \n",
              "28  Flower of My Secret, The (Flor de mi secreto, ...  \n",
              "29                          Cement Garden, The (1993)  "
            ],
            "text/html": [
              "\n",
              "  <div id=\"df-454fccd8-6953-47aa-9180-e5fce59de588\">\n",
              "    <div class=\"colab-df-container\">\n",
              "      <div>\n",
              "<style scoped>\n",
              "    .dataframe tbody tr th:only-of-type {\n",
              "        vertical-align: middle;\n",
              "    }\n",
              "\n",
              "    .dataframe tbody tr th {\n",
              "        vertical-align: top;\n",
              "    }\n",
              "\n",
              "    .dataframe thead th {\n",
              "        text-align: right;\n",
              "    }\n",
              "</style>\n",
              "<table border=\"1\" class=\"dataframe\">\n",
              "  <thead>\n",
              "    <tr style=\"text-align: right;\">\n",
              "      <th></th>\n",
              "      <th>itemid</th>\n",
              "      <th>similarity_with_Iu</th>\n",
              "      <th>title</th>\n",
              "    </tr>\n",
              "  </thead>\n",
              "  <tbody>\n",
              "    <tr>\n",
              "      <th>0</th>\n",
              "      <td>1356</td>\n",
              "      <td>52.867173</td>\n",
              "      <td>Ed's Next Move (1996)</td>\n",
              "    </tr>\n",
              "    <tr>\n",
              "      <th>1</th>\n",
              "      <td>1189</td>\n",
              "      <td>50.362199</td>\n",
              "      <td>Prefontaine (1997)</td>\n",
              "    </tr>\n",
              "    <tr>\n",
              "      <th>2</th>\n",
              "      <td>1516</td>\n",
              "      <td>31.133267</td>\n",
              "      <td>Wedding Gift, The (1994)</td>\n",
              "    </tr>\n",
              "    <tr>\n",
              "      <th>3</th>\n",
              "      <td>1550</td>\n",
              "      <td>31.031738</td>\n",
              "      <td>Destiny Turns on the Radio (1995)</td>\n",
              "    </tr>\n",
              "    <tr>\n",
              "      <th>4</th>\n",
              "      <td>1554</td>\n",
              "      <td>27.364494</td>\n",
              "      <td>Safe Passage (1994)</td>\n",
              "    </tr>\n",
              "    <tr>\n",
              "      <th>5</th>\n",
              "      <td>1600</td>\n",
              "      <td>27.287712</td>\n",
              "      <td>Guantanamera (1994)</td>\n",
              "    </tr>\n",
              "    <tr>\n",
              "      <th>6</th>\n",
              "      <td>1223</td>\n",
              "      <td>26.631850</td>\n",
              "      <td>King of the Hill (1993)</td>\n",
              "    </tr>\n",
              "    <tr>\n",
              "      <th>7</th>\n",
              "      <td>1388</td>\n",
              "      <td>26.624397</td>\n",
              "      <td>Gabbeh (1996)</td>\n",
              "    </tr>\n",
              "    <tr>\n",
              "      <th>8</th>\n",
              "      <td>766</td>\n",
              "      <td>26.590175</td>\n",
              "      <td>Man of the Year (1995)</td>\n",
              "    </tr>\n",
              "    <tr>\n",
              "      <th>9</th>\n",
              "      <td>691</td>\n",
              "      <td>26.461802</td>\n",
              "      <td>Dark City (1998)</td>\n",
              "    </tr>\n",
              "    <tr>\n",
              "      <th>10</th>\n",
              "      <td>1378</td>\n",
              "      <td>25.787842</td>\n",
              "      <td>Rhyme &amp; Reason (1997)</td>\n",
              "    </tr>\n",
              "    <tr>\n",
              "      <th>11</th>\n",
              "      <td>1664</td>\n",
              "      <td>25.327445</td>\n",
              "      <td>8 Heads in a Duffel Bag (1997)</td>\n",
              "    </tr>\n",
              "    <tr>\n",
              "      <th>12</th>\n",
              "      <td>1261</td>\n",
              "      <td>24.785660</td>\n",
              "      <td>Run of the Country, The (1995)</td>\n",
              "    </tr>\n",
              "    <tr>\n",
              "      <th>13</th>\n",
              "      <td>1123</td>\n",
              "      <td>24.524028</td>\n",
              "      <td>Last Time I Saw Paris, The (1954)</td>\n",
              "    </tr>\n",
              "    <tr>\n",
              "      <th>14</th>\n",
              "      <td>1538</td>\n",
              "      <td>24.492453</td>\n",
              "      <td>All Over Me (1997)</td>\n",
              "    </tr>\n",
              "    <tr>\n",
              "      <th>15</th>\n",
              "      <td>1485</td>\n",
              "      <td>24.345312</td>\n",
              "      <td>Colonel Chabert, Le (1994)</td>\n",
              "    </tr>\n",
              "    <tr>\n",
              "      <th>16</th>\n",
              "      <td>1450</td>\n",
              "      <td>24.262120</td>\n",
              "      <td>Golden Earrings (1947)</td>\n",
              "    </tr>\n",
              "    <tr>\n",
              "      <th>17</th>\n",
              "      <td>909</td>\n",
              "      <td>23.357301</td>\n",
              "      <td>Dangerous Beauty (1998)</td>\n",
              "    </tr>\n",
              "    <tr>\n",
              "      <th>18</th>\n",
              "      <td>359</td>\n",
              "      <td>22.973658</td>\n",
              "      <td>Assignment, The (1997)</td>\n",
              "    </tr>\n",
              "    <tr>\n",
              "      <th>19</th>\n",
              "      <td>1369</td>\n",
              "      <td>22.710078</td>\n",
              "      <td>Forbidden Christ, The (Cristo proibito, Il) (1...</td>\n",
              "    </tr>\n",
              "    <tr>\n",
              "      <th>20</th>\n",
              "      <td>1506</td>\n",
              "      <td>22.325504</td>\n",
              "      <td>Nelly &amp; Monsieur Arnaud (1995)</td>\n",
              "    </tr>\n",
              "    <tr>\n",
              "      <th>21</th>\n",
              "      <td>1537</td>\n",
              "      <td>22.061914</td>\n",
              "      <td>Cosi (1996)</td>\n",
              "    </tr>\n",
              "    <tr>\n",
              "      <th>22</th>\n",
              "      <td>1474</td>\n",
              "      <td>21.877034</td>\n",
              "      <td>Nina Takes a Lover (1994)</td>\n",
              "    </tr>\n",
              "    <tr>\n",
              "      <th>23</th>\n",
              "      <td>1467</td>\n",
              "      <td>21.861203</td>\n",
              "      <td>Saint of Fort Washington, The (1993)</td>\n",
              "    </tr>\n",
              "    <tr>\n",
              "      <th>24</th>\n",
              "      <td>1255</td>\n",
              "      <td>21.750924</td>\n",
              "      <td>Broken English (1996)</td>\n",
              "    </tr>\n",
              "    <tr>\n",
              "      <th>25</th>\n",
              "      <td>1499</td>\n",
              "      <td>21.529748</td>\n",
              "      <td>Grosse Fatigue (1994)</td>\n",
              "    </tr>\n",
              "    <tr>\n",
              "      <th>26</th>\n",
              "      <td>1466</td>\n",
              "      <td>21.063269</td>\n",
              "      <td>Margaret's Museum (1995)</td>\n",
              "    </tr>\n",
              "    <tr>\n",
              "      <th>27</th>\n",
              "      <td>1448</td>\n",
              "      <td>20.846909</td>\n",
              "      <td>My Favorite Season (1993)</td>\n",
              "    </tr>\n",
              "    <tr>\n",
              "      <th>28</th>\n",
              "      <td>927</td>\n",
              "      <td>20.730153</td>\n",
              "      <td>Flower of My Secret, The (Flor de mi secreto, ...</td>\n",
              "    </tr>\n",
              "    <tr>\n",
              "      <th>29</th>\n",
              "      <td>1375</td>\n",
              "      <td>20.627152</td>\n",
              "      <td>Cement Garden, The (1993)</td>\n",
              "    </tr>\n",
              "  </tbody>\n",
              "</table>\n",
              "</div>\n",
              "      <button class=\"colab-df-convert\" onclick=\"convertToInteractive('df-454fccd8-6953-47aa-9180-e5fce59de588')\"\n",
              "              title=\"Convert this dataframe to an interactive table.\"\n",
              "              style=\"display:none;\">\n",
              "        \n",
              "  <svg xmlns=\"http://www.w3.org/2000/svg\" height=\"24px\"viewBox=\"0 0 24 24\"\n",
              "       width=\"24px\">\n",
              "    <path d=\"M0 0h24v24H0V0z\" fill=\"none\"/>\n",
              "    <path d=\"M18.56 5.44l.94 2.06.94-2.06 2.06-.94-2.06-.94-.94-2.06-.94 2.06-2.06.94zm-11 1L8.5 8.5l.94-2.06 2.06-.94-2.06-.94L8.5 2.5l-.94 2.06-2.06.94zm10 10l.94 2.06.94-2.06 2.06-.94-2.06-.94-.94-2.06-.94 2.06-2.06.94z\"/><path d=\"M17.41 7.96l-1.37-1.37c-.4-.4-.92-.59-1.43-.59-.52 0-1.04.2-1.43.59L10.3 9.45l-7.72 7.72c-.78.78-.78 2.05 0 2.83L4 21.41c.39.39.9.59 1.41.59.51 0 1.02-.2 1.41-.59l7.78-7.78 2.81-2.81c.8-.78.8-2.07 0-2.86zM5.41 20L4 18.59l7.72-7.72 1.47 1.35L5.41 20z\"/>\n",
              "  </svg>\n",
              "      </button>\n",
              "      \n",
              "  <style>\n",
              "    .colab-df-container {\n",
              "      display:flex;\n",
              "      flex-wrap:wrap;\n",
              "      gap: 12px;\n",
              "    }\n",
              "\n",
              "    .colab-df-convert {\n",
              "      background-color: #E8F0FE;\n",
              "      border: none;\n",
              "      border-radius: 50%;\n",
              "      cursor: pointer;\n",
              "      display: none;\n",
              "      fill: #1967D2;\n",
              "      height: 32px;\n",
              "      padding: 0 0 0 0;\n",
              "      width: 32px;\n",
              "    }\n",
              "\n",
              "    .colab-df-convert:hover {\n",
              "      background-color: #E2EBFA;\n",
              "      box-shadow: 0px 1px 2px rgba(60, 64, 67, 0.3), 0px 1px 3px 1px rgba(60, 64, 67, 0.15);\n",
              "      fill: #174EA6;\n",
              "    }\n",
              "\n",
              "    [theme=dark] .colab-df-convert {\n",
              "      background-color: #3B4455;\n",
              "      fill: #D2E3FC;\n",
              "    }\n",
              "\n",
              "    [theme=dark] .colab-df-convert:hover {\n",
              "      background-color: #434B5C;\n",
              "      box-shadow: 0px 1px 3px 1px rgba(0, 0, 0, 0.15);\n",
              "      filter: drop-shadow(0px 1px 2px rgba(0, 0, 0, 0.3));\n",
              "      fill: #FFFFFF;\n",
              "    }\n",
              "  </style>\n",
              "\n",
              "      <script>\n",
              "        const buttonEl =\n",
              "          document.querySelector('#df-454fccd8-6953-47aa-9180-e5fce59de588 button.colab-df-convert');\n",
              "        buttonEl.style.display =\n",
              "          google.colab.kernel.accessAllowed ? 'block' : 'none';\n",
              "\n",
              "        async function convertToInteractive(key) {\n",
              "          const element = document.querySelector('#df-454fccd8-6953-47aa-9180-e5fce59de588');\n",
              "          const dataTable =\n",
              "            await google.colab.kernel.invokeFunction('convertToInteractive',\n",
              "                                                     [key], {});\n",
              "          if (!dataTable) return;\n",
              "\n",
              "          const docLinkHtml = 'Like what you see? Visit the ' +\n",
              "            '<a target=\"_blank\" href=https://colab.research.google.com/notebooks/data_table.ipynb>data table notebook</a>'\n",
              "            + ' to learn more about interactive tables.';\n",
              "          element.innerHTML = '';\n",
              "          dataTable['output_type'] = 'display_data';\n",
              "          await google.colab.output.renderOutput(dataTable, element);\n",
              "          const docLink = document.createElement('div');\n",
              "          docLink.innerHTML = docLinkHtml;\n",
              "          element.appendChild(docLink);\n",
              "        }\n",
              "      </script>\n",
              "    </div>\n",
              "  </div>\n",
              "  "
            ]
          },
          "metadata": {},
          "execution_count": 23
        }
      ],
      "source": [
        "#Show top-30 movies recommendation for the test user\n",
        "topn_recommendation(test_user)"
      ]
    },
    {
      "cell_type": "markdown",
      "metadata": {
        "id": "LGqHIdnq1nP_"
      },
      "source": [
        "This dataframe represents the top N recommendation list a user. These items are sorted in decreasing order of similarities with $I_u$.\n",
        "\n",
        "**Observation** : The recommended items are the most similar to the set $I_u$ of items already purchased by the user."
      ]
    },
    {
      "cell_type": "markdown",
      "metadata": {
        "id": "QCNmT0Da1nP_"
      },
      "source": [
        "### Extra: Top-N recommendation with rating *predictions*"
      ]
    },
    {
      "cell_type": "markdown",
      "metadata": {
        "id": "J-kGKNh81nP_"
      },
      "source": [
        "Before recommending the previous list to the user, we can go further and predict the ratings the user would have given to each of these items, sort them in descending order of prediction and return the reordered list as the new top N recommendation list."
      ]
    },
    {
      "cell_type": "markdown",
      "metadata": {
        "id": "VGUokdLB1nP_"
      },
      "source": [
        "#### Rating prediction\n",
        "\n",
        "As stated earlier, the predicted rating $\\hat{r}_{u,i}$ for a given user $u$ on an item $i$ is obtained by aggregating ratings given by $u$ on items similar to $i$ as follows:\n",
        "\n",
        "\\begin{equation}\n",
        " \\hat{r}_{u,i}=\\frac{\\sum_{j\\in S^{(i)}}r_{u,j}\\cdot w_{i,j}}{\\sum_{j\\in S^{(i)}}|w_{i,j}|}\n",
        "\\end{equation}"
      ]
    },
    {
      "cell_type": "code",
      "execution_count": 24,
      "metadata": {
        "id": "KW7SaPMx1nP_"
      },
      "outputs": [],
      "source": [
        "def predict(userid, itemid):\n",
        "    \"\"\"\n",
        "    Make rating prediction for user userid on item itemid    \n",
        "    :param userid : id of the active user\n",
        "    :param itemid : id of the item for which we are making prediction        \n",
        "    :return r_hat : predicted rating\n",
        "    \"\"\"\n",
        "    \n",
        "    # Get items similar to item itemid with their corresponding similarities\n",
        "    item_neighbors = neighbors[itemid]\n",
        "    item_similarities = similarities[itemid]\n",
        "    \n",
        "    # get ratings of user with id userid\n",
        "    uratings = np_ratings[np_ratings[:, 0].astype('int') == userid]\n",
        "    \n",
        "    # similar items rated by item the user of i\n",
        "    siru = uratings[np.isin(uratings[:, 1], item_neighbors)]\n",
        "    scores = siru[:, 2]\n",
        "    indexes = [np.where(item_neighbors == iid)[0][0] for iid in siru[:,1].astype('int')]    \n",
        "    sims = item_similarities[indexes]\n",
        "    \n",
        "    dot = np.dot(scores, sims)\n",
        "    som = np.sum(np.abs(sims))\n",
        "\n",
        "    if dot == 0 or som == 0:\n",
        "        return mean[userid]\n",
        "    \n",
        "    return dot / som"
      ]
    },
    {
      "cell_type": "markdown",
      "metadata": {
        "id": "7RwTMfiH1nQA"
      },
      "source": [
        "Now let's use our ```predict()``` function to predict what ratings the user would have given to the previous top-$N$ list and return the reorganised list (in decreasing order of predictions) as the new top-$N$ list"
      ]
    },
    {
      "cell_type": "code",
      "execution_count": 25,
      "metadata": {
        "id": "hZ7RlwC71nQA"
      },
      "outputs": [],
      "source": [
        "def topn_prediction(userid):\n",
        "    \"\"\"\n",
        "    :param userid : id of the active user    \n",
        "    :return topn : initial topN recommendations returned by the function topn_recommendation\n",
        "    :return topn_predict : topN recommendations reordered according to rating predictions\n",
        "    \"\"\"\n",
        "    # make top N recommendation for the active user\n",
        "    topn = topn_recommendation(userid)\n",
        "    \n",
        "    # get list of items of the top N list\n",
        "    itemids = topn.itemid.to_list()\n",
        "    \n",
        "    predictions = []\n",
        "    \n",
        "    # make prediction for each item in the top N list\n",
        "    for itemid in itemids:\n",
        "        r = predict(userid, itemid)\n",
        "        \n",
        "        predictions.append((itemid,r))\n",
        "    \n",
        "    predictions = pd.DataFrame(predictions, columns=['itemid','prediction'])\n",
        "    \n",
        "    # merge the predictions to topN_list and rearrange the list according to predictions\n",
        "    topn_predict = pd.merge(topn, predictions, on='itemid', how='inner')\n",
        "    topn_predict = topn_predict.sort_values(by=['prediction'], ascending=False)\n",
        "    \n",
        "    return topn, topn_predict"
      ]
    },
    {
      "cell_type": "markdown",
      "metadata": {
        "id": "07hys15S1nQA"
      },
      "source": [
        "Now, let's make recommendation for test user and compare both list"
      ]
    },
    {
      "cell_type": "code",
      "execution_count": 26,
      "metadata": {
        "id": "eNFWsSFE1nQA"
      },
      "outputs": [],
      "source": [
        "topn, topn_predict = topn_prediction(userid=test_user)\n",
        "# topn -> first list\n",
        "# topn_predict -> second list"
      ]
    },
    {
      "cell_type": "code",
      "execution_count": 27,
      "metadata": {
        "colab": {
          "base_uri": "https://localhost:8080/",
          "height": 990
        },
        "id": "EyGFyDKF1nQA",
        "outputId": "63f90863-2741-4cbc-e6ae-76354f3f9945"
      },
      "outputs": [
        {
          "output_type": "execute_result",
          "data": {
            "text/plain": [
              "    itemid  similarity_with_Iu  \\\n",
              "7     1388           26.624397   \n",
              "18     359           22.973658   \n",
              "4     1554           27.364494   \n",
              "14    1538           24.492453   \n",
              "27    1448           20.846909   \n",
              "29    1375           20.627152   \n",
              "26    1466           21.063269   \n",
              "2     1516           31.133267   \n",
              "23    1467           21.861203   \n",
              "21    1537           22.061914   \n",
              "10    1378           25.787842   \n",
              "19    1369           22.710078   \n",
              "3     1550           31.031738   \n",
              "1     1189           50.362199   \n",
              "20    1506           22.325504   \n",
              "15    1485           24.345312   \n",
              "11    1664           25.327445   \n",
              "9      691           26.461802   \n",
              "6     1223           26.631850   \n",
              "5     1600           27.287712   \n",
              "17     909           23.357301   \n",
              "12    1261           24.785660   \n",
              "24    1255           21.750924   \n",
              "13    1123           24.524028   \n",
              "16    1450           24.262120   \n",
              "22    1474           21.877034   \n",
              "8      766           26.590175   \n",
              "0     1356           52.867173   \n",
              "28     927           20.730153   \n",
              "25    1499           21.529748   \n",
              "\n",
              "                                                title  prediction  \n",
              "7                                       Gabbeh (1996)    4.666667  \n",
              "18                             Assignment, The (1997)    4.600000  \n",
              "4                                 Safe Passage (1994)    4.500000  \n",
              "14                                 All Over Me (1997)    4.500000  \n",
              "27                          My Favorite Season (1993)    4.490052  \n",
              "29                          Cement Garden, The (1993)    4.333333  \n",
              "26                           Margaret's Museum (1995)    4.271915  \n",
              "2                            Wedding Gift, The (1994)    4.000000  \n",
              "23               Saint of Fort Washington, The (1993)    4.000000  \n",
              "21                                        Cosi (1996)    4.000000  \n",
              "10                              Rhyme & Reason (1997)    4.000000  \n",
              "19  Forbidden Christ, The (Cristo proibito, Il) (1...    4.000000  \n",
              "3                   Destiny Turns on the Radio (1995)    3.777778  \n",
              "1                                  Prefontaine (1997)    3.666528  \n",
              "20                     Nelly & Monsieur Arnaud (1995)    3.610294  \n",
              "15                         Colonel Chabert, Le (1994)    3.610294  \n",
              "11                     8 Heads in a Duffel Bag (1997)    3.610294  \n",
              "9                                    Dark City (1998)    3.610294  \n",
              "6                             King of the Hill (1993)    3.610294  \n",
              "5                                 Guantanamera (1994)    3.610294  \n",
              "17                            Dangerous Beauty (1998)    3.500000  \n",
              "12                     Run of the Country, The (1995)    3.333333  \n",
              "24                              Broken English (1996)    3.265749  \n",
              "13                  Last Time I Saw Paris, The (1954)    3.200000  \n",
              "16                             Golden Earrings (1947)    3.142978  \n",
              "22                          Nina Takes a Lover (1994)    3.000000  \n",
              "8                              Man of the Year (1995)    3.000000  \n",
              "0                               Ed's Next Move (1996)    2.280926  \n",
              "28  Flower of My Secret, The (Flor de mi secreto, ...    1.665010  \n",
              "25                              Grosse Fatigue (1994)    1.122032  "
            ],
            "text/html": [
              "\n",
              "  <div id=\"df-aa1cb610-bbcc-44d1-830c-34562c2b75b7\">\n",
              "    <div class=\"colab-df-container\">\n",
              "      <div>\n",
              "<style scoped>\n",
              "    .dataframe tbody tr th:only-of-type {\n",
              "        vertical-align: middle;\n",
              "    }\n",
              "\n",
              "    .dataframe tbody tr th {\n",
              "        vertical-align: top;\n",
              "    }\n",
              "\n",
              "    .dataframe thead th {\n",
              "        text-align: right;\n",
              "    }\n",
              "</style>\n",
              "<table border=\"1\" class=\"dataframe\">\n",
              "  <thead>\n",
              "    <tr style=\"text-align: right;\">\n",
              "      <th></th>\n",
              "      <th>itemid</th>\n",
              "      <th>similarity_with_Iu</th>\n",
              "      <th>title</th>\n",
              "      <th>prediction</th>\n",
              "    </tr>\n",
              "  </thead>\n",
              "  <tbody>\n",
              "    <tr>\n",
              "      <th>7</th>\n",
              "      <td>1388</td>\n",
              "      <td>26.624397</td>\n",
              "      <td>Gabbeh (1996)</td>\n",
              "      <td>4.666667</td>\n",
              "    </tr>\n",
              "    <tr>\n",
              "      <th>18</th>\n",
              "      <td>359</td>\n",
              "      <td>22.973658</td>\n",
              "      <td>Assignment, The (1997)</td>\n",
              "      <td>4.600000</td>\n",
              "    </tr>\n",
              "    <tr>\n",
              "      <th>4</th>\n",
              "      <td>1554</td>\n",
              "      <td>27.364494</td>\n",
              "      <td>Safe Passage (1994)</td>\n",
              "      <td>4.500000</td>\n",
              "    </tr>\n",
              "    <tr>\n",
              "      <th>14</th>\n",
              "      <td>1538</td>\n",
              "      <td>24.492453</td>\n",
              "      <td>All Over Me (1997)</td>\n",
              "      <td>4.500000</td>\n",
              "    </tr>\n",
              "    <tr>\n",
              "      <th>27</th>\n",
              "      <td>1448</td>\n",
              "      <td>20.846909</td>\n",
              "      <td>My Favorite Season (1993)</td>\n",
              "      <td>4.490052</td>\n",
              "    </tr>\n",
              "    <tr>\n",
              "      <th>29</th>\n",
              "      <td>1375</td>\n",
              "      <td>20.627152</td>\n",
              "      <td>Cement Garden, The (1993)</td>\n",
              "      <td>4.333333</td>\n",
              "    </tr>\n",
              "    <tr>\n",
              "      <th>26</th>\n",
              "      <td>1466</td>\n",
              "      <td>21.063269</td>\n",
              "      <td>Margaret's Museum (1995)</td>\n",
              "      <td>4.271915</td>\n",
              "    </tr>\n",
              "    <tr>\n",
              "      <th>2</th>\n",
              "      <td>1516</td>\n",
              "      <td>31.133267</td>\n",
              "      <td>Wedding Gift, The (1994)</td>\n",
              "      <td>4.000000</td>\n",
              "    </tr>\n",
              "    <tr>\n",
              "      <th>23</th>\n",
              "      <td>1467</td>\n",
              "      <td>21.861203</td>\n",
              "      <td>Saint of Fort Washington, The (1993)</td>\n",
              "      <td>4.000000</td>\n",
              "    </tr>\n",
              "    <tr>\n",
              "      <th>21</th>\n",
              "      <td>1537</td>\n",
              "      <td>22.061914</td>\n",
              "      <td>Cosi (1996)</td>\n",
              "      <td>4.000000</td>\n",
              "    </tr>\n",
              "    <tr>\n",
              "      <th>10</th>\n",
              "      <td>1378</td>\n",
              "      <td>25.787842</td>\n",
              "      <td>Rhyme &amp; Reason (1997)</td>\n",
              "      <td>4.000000</td>\n",
              "    </tr>\n",
              "    <tr>\n",
              "      <th>19</th>\n",
              "      <td>1369</td>\n",
              "      <td>22.710078</td>\n",
              "      <td>Forbidden Christ, The (Cristo proibito, Il) (1...</td>\n",
              "      <td>4.000000</td>\n",
              "    </tr>\n",
              "    <tr>\n",
              "      <th>3</th>\n",
              "      <td>1550</td>\n",
              "      <td>31.031738</td>\n",
              "      <td>Destiny Turns on the Radio (1995)</td>\n",
              "      <td>3.777778</td>\n",
              "    </tr>\n",
              "    <tr>\n",
              "      <th>1</th>\n",
              "      <td>1189</td>\n",
              "      <td>50.362199</td>\n",
              "      <td>Prefontaine (1997)</td>\n",
              "      <td>3.666528</td>\n",
              "    </tr>\n",
              "    <tr>\n",
              "      <th>20</th>\n",
              "      <td>1506</td>\n",
              "      <td>22.325504</td>\n",
              "      <td>Nelly &amp; Monsieur Arnaud (1995)</td>\n",
              "      <td>3.610294</td>\n",
              "    </tr>\n",
              "    <tr>\n",
              "      <th>15</th>\n",
              "      <td>1485</td>\n",
              "      <td>24.345312</td>\n",
              "      <td>Colonel Chabert, Le (1994)</td>\n",
              "      <td>3.610294</td>\n",
              "    </tr>\n",
              "    <tr>\n",
              "      <th>11</th>\n",
              "      <td>1664</td>\n",
              "      <td>25.327445</td>\n",
              "      <td>8 Heads in a Duffel Bag (1997)</td>\n",
              "      <td>3.610294</td>\n",
              "    </tr>\n",
              "    <tr>\n",
              "      <th>9</th>\n",
              "      <td>691</td>\n",
              "      <td>26.461802</td>\n",
              "      <td>Dark City (1998)</td>\n",
              "      <td>3.610294</td>\n",
              "    </tr>\n",
              "    <tr>\n",
              "      <th>6</th>\n",
              "      <td>1223</td>\n",
              "      <td>26.631850</td>\n",
              "      <td>King of the Hill (1993)</td>\n",
              "      <td>3.610294</td>\n",
              "    </tr>\n",
              "    <tr>\n",
              "      <th>5</th>\n",
              "      <td>1600</td>\n",
              "      <td>27.287712</td>\n",
              "      <td>Guantanamera (1994)</td>\n",
              "      <td>3.610294</td>\n",
              "    </tr>\n",
              "    <tr>\n",
              "      <th>17</th>\n",
              "      <td>909</td>\n",
              "      <td>23.357301</td>\n",
              "      <td>Dangerous Beauty (1998)</td>\n",
              "      <td>3.500000</td>\n",
              "    </tr>\n",
              "    <tr>\n",
              "      <th>12</th>\n",
              "      <td>1261</td>\n",
              "      <td>24.785660</td>\n",
              "      <td>Run of the Country, The (1995)</td>\n",
              "      <td>3.333333</td>\n",
              "    </tr>\n",
              "    <tr>\n",
              "      <th>24</th>\n",
              "      <td>1255</td>\n",
              "      <td>21.750924</td>\n",
              "      <td>Broken English (1996)</td>\n",
              "      <td>3.265749</td>\n",
              "    </tr>\n",
              "    <tr>\n",
              "      <th>13</th>\n",
              "      <td>1123</td>\n",
              "      <td>24.524028</td>\n",
              "      <td>Last Time I Saw Paris, The (1954)</td>\n",
              "      <td>3.200000</td>\n",
              "    </tr>\n",
              "    <tr>\n",
              "      <th>16</th>\n",
              "      <td>1450</td>\n",
              "      <td>24.262120</td>\n",
              "      <td>Golden Earrings (1947)</td>\n",
              "      <td>3.142978</td>\n",
              "    </tr>\n",
              "    <tr>\n",
              "      <th>22</th>\n",
              "      <td>1474</td>\n",
              "      <td>21.877034</td>\n",
              "      <td>Nina Takes a Lover (1994)</td>\n",
              "      <td>3.000000</td>\n",
              "    </tr>\n",
              "    <tr>\n",
              "      <th>8</th>\n",
              "      <td>766</td>\n",
              "      <td>26.590175</td>\n",
              "      <td>Man of the Year (1995)</td>\n",
              "      <td>3.000000</td>\n",
              "    </tr>\n",
              "    <tr>\n",
              "      <th>0</th>\n",
              "      <td>1356</td>\n",
              "      <td>52.867173</td>\n",
              "      <td>Ed's Next Move (1996)</td>\n",
              "      <td>2.280926</td>\n",
              "    </tr>\n",
              "    <tr>\n",
              "      <th>28</th>\n",
              "      <td>927</td>\n",
              "      <td>20.730153</td>\n",
              "      <td>Flower of My Secret, The (Flor de mi secreto, ...</td>\n",
              "      <td>1.665010</td>\n",
              "    </tr>\n",
              "    <tr>\n",
              "      <th>25</th>\n",
              "      <td>1499</td>\n",
              "      <td>21.529748</td>\n",
              "      <td>Grosse Fatigue (1994)</td>\n",
              "      <td>1.122032</td>\n",
              "    </tr>\n",
              "  </tbody>\n",
              "</table>\n",
              "</div>\n",
              "      <button class=\"colab-df-convert\" onclick=\"convertToInteractive('df-aa1cb610-bbcc-44d1-830c-34562c2b75b7')\"\n",
              "              title=\"Convert this dataframe to an interactive table.\"\n",
              "              style=\"display:none;\">\n",
              "        \n",
              "  <svg xmlns=\"http://www.w3.org/2000/svg\" height=\"24px\"viewBox=\"0 0 24 24\"\n",
              "       width=\"24px\">\n",
              "    <path d=\"M0 0h24v24H0V0z\" fill=\"none\"/>\n",
              "    <path d=\"M18.56 5.44l.94 2.06.94-2.06 2.06-.94-2.06-.94-.94-2.06-.94 2.06-2.06.94zm-11 1L8.5 8.5l.94-2.06 2.06-.94-2.06-.94L8.5 2.5l-.94 2.06-2.06.94zm10 10l.94 2.06.94-2.06 2.06-.94-2.06-.94-.94-2.06-.94 2.06-2.06.94z\"/><path d=\"M17.41 7.96l-1.37-1.37c-.4-.4-.92-.59-1.43-.59-.52 0-1.04.2-1.43.59L10.3 9.45l-7.72 7.72c-.78.78-.78 2.05 0 2.83L4 21.41c.39.39.9.59 1.41.59.51 0 1.02-.2 1.41-.59l7.78-7.78 2.81-2.81c.8-.78.8-2.07 0-2.86zM5.41 20L4 18.59l7.72-7.72 1.47 1.35L5.41 20z\"/>\n",
              "  </svg>\n",
              "      </button>\n",
              "      \n",
              "  <style>\n",
              "    .colab-df-container {\n",
              "      display:flex;\n",
              "      flex-wrap:wrap;\n",
              "      gap: 12px;\n",
              "    }\n",
              "\n",
              "    .colab-df-convert {\n",
              "      background-color: #E8F0FE;\n",
              "      border: none;\n",
              "      border-radius: 50%;\n",
              "      cursor: pointer;\n",
              "      display: none;\n",
              "      fill: #1967D2;\n",
              "      height: 32px;\n",
              "      padding: 0 0 0 0;\n",
              "      width: 32px;\n",
              "    }\n",
              "\n",
              "    .colab-df-convert:hover {\n",
              "      background-color: #E2EBFA;\n",
              "      box-shadow: 0px 1px 2px rgba(60, 64, 67, 0.3), 0px 1px 3px 1px rgba(60, 64, 67, 0.15);\n",
              "      fill: #174EA6;\n",
              "    }\n",
              "\n",
              "    [theme=dark] .colab-df-convert {\n",
              "      background-color: #3B4455;\n",
              "      fill: #D2E3FC;\n",
              "    }\n",
              "\n",
              "    [theme=dark] .colab-df-convert:hover {\n",
              "      background-color: #434B5C;\n",
              "      box-shadow: 0px 1px 3px 1px rgba(0, 0, 0, 0.15);\n",
              "      filter: drop-shadow(0px 1px 2px rgba(0, 0, 0, 0.3));\n",
              "      fill: #FFFFFF;\n",
              "    }\n",
              "  </style>\n",
              "\n",
              "      <script>\n",
              "        const buttonEl =\n",
              "          document.querySelector('#df-aa1cb610-bbcc-44d1-830c-34562c2b75b7 button.colab-df-convert');\n",
              "        buttonEl.style.display =\n",
              "          google.colab.kernel.accessAllowed ? 'block' : 'none';\n",
              "\n",
              "        async function convertToInteractive(key) {\n",
              "          const element = document.querySelector('#df-aa1cb610-bbcc-44d1-830c-34562c2b75b7');\n",
              "          const dataTable =\n",
              "            await google.colab.kernel.invokeFunction('convertToInteractive',\n",
              "                                                     [key], {});\n",
              "          if (!dataTable) return;\n",
              "\n",
              "          const docLinkHtml = 'Like what you see? Visit the ' +\n",
              "            '<a target=\"_blank\" href=https://colab.research.google.com/notebooks/data_table.ipynb>data table notebook</a>'\n",
              "            + ' to learn more about interactive tables.';\n",
              "          element.innerHTML = '';\n",
              "          dataTable['output_type'] = 'display_data';\n",
              "          await google.colab.output.renderOutput(dataTable, element);\n",
              "          const docLink = document.createElement('div');\n",
              "          docLink.innerHTML = docLinkHtml;\n",
              "          element.appendChild(docLink);\n",
              "        }\n",
              "      </script>\n",
              "    </div>\n",
              "  </div>\n",
              "  "
            ]
          },
          "metadata": {},
          "execution_count": 27
        }
      ],
      "source": [
        "topn_predict"
      ]
    },
    {
      "cell_type": "markdown",
      "metadata": {
        "id": "oso-3ERb1nQB"
      },
      "source": [
        "As you will have noticed, the two lists are sorted in different ways. The second list is organized according to the predictions made for the user.\n",
        "\n",
        "<b>Note</b>: When making predictions for user $u$ on item $i$, user $u$ may not have rated any of the $k$ most similar items to i. In this case, we consider the mean rating of $u$ as the predicted value."
      ]
    },
    {
      "cell_type": "markdown",
      "metadata": {
        "id": "6vs2HlAV1nQB"
      },
      "source": [
        "#### Evaluation with Mean Absolute Error"
      ]
    },
    {
      "cell_type": "code",
      "execution_count": 28,
      "metadata": {
        "id": "Rc-or1_u1nQB"
      },
      "outputs": [],
      "source": [
        "from recsys.preprocessing import train_test_split, get_examples\n",
        "\n",
        "# get examples as tuples of userids and itemids and labels from normalize ratings\n",
        "raw_examples, raw_labels = get_examples(ratings, labels_column='rating')\n",
        "\n",
        "# train test split\n",
        "(x_train, x_test), (y_train, y_test) = train_test_split(examples=raw_examples, labels=raw_labels)\n",
        "\n",
        "def evaluate(x_test, y_test):\n",
        "    print('Evaluate the model on {} test data ...'.format(x_test.shape[0]))\n",
        "    preds = list(predict(u,i) for (u,i) in x_test)\n",
        "    mae = np.sum(np.absolute(y_test - np.array(preds))) / x_test.shape[0]\n",
        "    print('\\nMAE :', mae)\n",
        "    return mae"
      ]
    },
    {
      "cell_type": "code",
      "execution_count": 29,
      "metadata": {
        "colab": {
          "base_uri": "https://localhost:8080/"
        },
        "id": "8DFkiood1nQB",
        "outputId": "eb7ce583-de2a-4a30-a39a-110953fa6a29"
      },
      "outputs": [
        {
          "output_type": "stream",
          "name": "stdout",
          "text": [
            "Evaluate the model on 10000 test data ...\n",
            "\n",
            "MAE : 0.672389703640273\n"
          ]
        },
        {
          "output_type": "execute_result",
          "data": {
            "text/plain": [
              "0.672389703640273"
            ]
          },
          "metadata": {},
          "execution_count": 29
        }
      ],
      "source": [
        "evaluate(x_test, y_test)"
      ]
    },
    {
      "cell_type": "markdown",
      "source": [
        "According to the result, the MAE is < 1.0, which is quite okay"
      ],
      "metadata": {
        "id": "CLJTmfVK0H1_"
      }
    },
    {
      "cell_type": "markdown",
      "metadata": {
        "id": "nBduY8eV1nQC"
      },
      "source": [
        "### Summary"
      ]
    },
    {
      "cell_type": "markdown",
      "source": [
        "For Convenience, Item-based Collaborative Filtering can be used by calling ItemToItem class from *recsys*<br>\n",
        "On how to use that class, the process is described as below"
      ],
      "metadata": {
        "id": "VF2ITyCo0OvP"
      }
    },
    {
      "cell_type": "markdown",
      "source": [
        "##### Evaluation on the ML-100K dataset"
      ],
      "metadata": {
        "id": "k4J01X0Y0eZ6"
      }
    },
    {
      "cell_type": "code",
      "execution_count": 30,
      "metadata": {
        "id": "bSkzSAzg1nQC"
      },
      "outputs": [],
      "source": [
        "from recsys.memories.ItemToItem import ItemToItem\n",
        "from recsys.preprocessing import ids_encoder, train_test_split, get_examples\n",
        "from recsys.datasets import ml100k\n",
        "\n",
        "# load data\n",
        "ratings, movies = ml100k.load()\n",
        "\n",
        "# prepare data\n",
        "ratings, uencoder, iencoder = ids_encoder(ratings)\n",
        "\n",
        "# get examples as tuples of userids and itemids and labels from normalize ratings\n",
        "raw_examples, raw_labels = get_examples(ratings, labels_column='rating')\n",
        "\n",
        "# train test split\n",
        "(x_train, x_test), (y_train, y_test) = train_test_split(examples=raw_examples, labels=raw_labels)"
      ]
    },
    {
      "cell_type": "markdown",
      "metadata": {
        "id": "f8Wx2lFk1nQC"
      },
      "source": [
        "Instantiate the ItemToItem Collaborative Filtering\n",
        "\n",
        "Parameters :\n",
        "- ```k``` : number of neighbors to consider for each item\n",
        "- ```metric``` : metric to use when computing similarities : let's use **cosine**\n",
        "- ```dataset_name``` : in this example, we use the ml100k dataset"
      ]
    },
    {
      "cell_type": "code",
      "execution_count": 31,
      "metadata": {
        "colab": {
          "base_uri": "https://localhost:8080/"
        },
        "id": "XCWYn8_r1nQD",
        "outputId": "0bb59863-bdcd-4b15-9f42-de8de489d1a4"
      },
      "outputs": [
        {
          "output_type": "stream",
          "name": "stdout",
          "text": [
            "Normalize ratings ...\n",
            "Create the similarity model ...\n",
            "Compute nearest neighbors ...\n",
            "Item to item recommendation model created with success ...\n"
          ]
        }
      ],
      "source": [
        "# create the Item-based CF\n",
        "item2item = ItemToItem(ratings, movies, k=20, metric='cosine', dataset_name='ml100k')"
      ]
    },
    {
      "cell_type": "code",
      "execution_count": 32,
      "metadata": {
        "colab": {
          "base_uri": "https://localhost:8080/"
        },
        "id": "hX2P5kR-1nQD",
        "outputId": "a33ca441-65c0-4aac-b0d4-08b996a944b9"
      },
      "outputs": [
        {
          "output_type": "stream",
          "name": "stdout",
          "text": [
            "Evaluate the model on 10000 test data ...\n",
            "\n",
            "MAE : 0.507794195659005\n"
          ]
        },
        {
          "output_type": "execute_result",
          "data": {
            "text/plain": [
              "0.507794195659005"
            ]
          },
          "metadata": {},
          "execution_count": 32
        }
      ],
      "source": [
        "# evaluate the algorithm on test dataset\n",
        "item2item.evaluate(x_test, y_test)"
      ]
    },
    {
      "cell_type": "markdown",
      "metadata": {
        "id": "ToY7MmmJ1nQD"
      },
      "source": [
        "##### Evaluation on the ML-1M dataset"
      ]
    },
    {
      "cell_type": "code",
      "execution_count": 33,
      "metadata": {
        "colab": {
          "base_uri": "https://localhost:8080/"
        },
        "id": "uyx2isX61nQD",
        "outputId": "a0bcbafc-8490-4e3a-910b-9af842288c75"
      },
      "outputs": [
        {
          "output_type": "stream",
          "name": "stdout",
          "text": [
            "Download data 100.1%\n",
            "Successfully downloaded ml-1m.zip 5917549 bytes.\n",
            "Unzipping the ml-1m.zip zip file ...\n",
            "Normalize ratings ...\n",
            "Create the similarity model ...\n",
            "Compute nearest neighbors ...\n",
            "Item to item recommendation model created with success ...\n",
            "=========================\n",
            "Evaluate the model on 100021 test data ...\n",
            "\n",
            "MAE : 0.42514728655396045\n"
          ]
        },
        {
          "output_type": "execute_result",
          "data": {
            "text/plain": [
              "0.42514728655396045"
            ]
          },
          "metadata": {},
          "execution_count": 33
        }
      ],
      "source": [
        "from recsys.memories.ItemToItem import ItemToItem\n",
        "from recsys.preprocessing import ids_encoder, train_test_split, get_examples\n",
        "from recsys.datasets import ml1m\n",
        "\n",
        "# load data\n",
        "ratings, movies = ml1m.load()\n",
        "\n",
        "# prepare data\n",
        "ratings, uencoder, iencoder = ids_encoder(ratings)\n",
        "\n",
        "# get examples as tuples of userids and itemids and labels from normalize ratings\n",
        "raw_examples, raw_labels = get_examples(ratings, labels_column='rating')\n",
        "\n",
        "# train test split\n",
        "(x_train, x_test), (y_train, y_test) = train_test_split(examples=raw_examples, labels=raw_labels)\n",
        "\n",
        "# create the Item-based CF\n",
        "item2item = ItemToItem(ratings, movies, k=20, metric='cosine', dataset_name='ml1m')\n",
        "\n",
        "# evaluate the algorithm on test dataset\n",
        "print(\"=========================\")\n",
        "item2item.evaluate(x_test, y_test)"
      ]
    },
    {
      "cell_type": "markdown",
      "source": [
        "## Advantages over user-based CF\n",
        "\n",
        "1. <b> Stability </b> : Items ratings are more stable than users ratings. New ratings on items are unlikely to significantly change the similarity between two items, particularly when the items have many ratings <a href=\"https://dl.acm.org/doi/10.1561/1100000009\">(Michael D. Ekstrand, <i>et al.</i> 2011)</a>. \n",
        "2. <b> Scalability </b> : with stable item's ratings, it is reasonable to pre-compute similarities between items in an item-item similarity matrix (similarity between items can be computed offline). This will reduce the scalability concern of the algorithm. <a href=\"https://dl.acm.org/doi/10.1145/371920.372071\">(Sarwar <i>et al.</i> 2001)</a>, <a href=\"https://dl.acm.org/doi/10.1561/1100000009\">(Michael D. Ekstrand, <i>et al.</i> 2011)</a>."
      ],
      "metadata": {
        "id": "ieLEiKtb1PbX"
      }
    },
    {
      "cell_type": "markdown",
      "metadata": {
        "id": "3o5Iy5WB1nQE"
      },
      "source": [
        "## References\n",
        "\n",
        "1. George Karypis (2001)<a href=\"https://citeseerx.ist.psu.edu/viewdoc/download?doi=10.1.1.554.1671&rep=rep1&type=pdf\">Evaluation of Item-Based Top-N Recommendation Algorithms</a>\n",
        "2. Sarwar et al. (2001) <a href=\"https://dl.acm.org/doi/10.1145/371920.372071\"> Item-based collaborative filtering recommendation algorithms</a> \n",
        "3. Michael D. Ekstrand, et al. (2011). <a href=\"https://dl.acm.org/doi/10.1561/1100000009\"> Collaborative Filtering Recommender Systems</a>\n",
        "4. J. Bobadilla et al. (2013)<a href=\"https://romisatriawahono.net/lecture/rm/survey/information%20retrieval/Bobadilla%20-%20Recommender%20Systems%20-%202013.pdf\"> Recommender systems survey</a>\n",
        "5. Greg Linden, Brent Smith, and Jeremy York (2003) <a href=\"https://www.cs.umd.edu/~samir/498/Amazon-Recommendations.pdf\">Amazon.com Recommendations : Item-to-Item Collaborative Filtering</a>"
      ]
    },
    {
      "cell_type": "markdown",
      "metadata": {
        "id": "UEqmjqUO1nQE"
      },
      "source": [
        "## Author\n",
        "\n",
        "[Carmel WENGA](https://www.linkedin.com/in/carmel-wenga-871876178/), <br>\n",
        "PhD student at Université de la Polynésie Française, <br> \n",
        "Applied Machine Learning Research Engineer, <br>\n",
        "[ShoppingList](https://shoppinglist.cm), NzhinuSoft."
      ]
    }
  ],
  "metadata": {
    "kernelspec": {
      "display_name": "Python 3",
      "language": "python",
      "name": "python3"
    },
    "language_info": {
      "codemirror_mode": {
        "name": "ipython",
        "version": 3
      },
      "file_extension": ".py",
      "mimetype": "text/x-python",
      "name": "python",
      "nbconvert_exporter": "python",
      "pygments_lexer": "ipython3",
      "version": "3.7.0"
    },
    "colab": {
      "provenance": []
    }
  },
  "nbformat": 4,
  "nbformat_minor": 0
}